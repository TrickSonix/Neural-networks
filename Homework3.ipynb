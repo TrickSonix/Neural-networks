{
 "cells": [
  {
   "cell_type": "code",
   "execution_count": 1,
   "metadata": {},
   "outputs": [],
   "source": [
    "import tensorflow as tf\n",
    "from tensorflow import keras\n",
    "\n",
    "import numpy as np\n",
    "import matplotlib.pyplot as plt"
   ]
  },
  {
   "cell_type": "code",
   "execution_count": 2,
   "metadata": {},
   "outputs": [
    {
     "name": "stdout",
     "output_type": "stream",
     "text": [
      "Downloading data from https://storage.googleapis.com/tensorflow/tf-keras-datasets/train-labels-idx1-ubyte.gz\n",
      "32768/29515 [=================================] - 0s 1us/step\n",
      "Downloading data from https://storage.googleapis.com/tensorflow/tf-keras-datasets/train-images-idx3-ubyte.gz\n",
      "26427392/26421880 [==============================] - 3s 0us/step\n",
      "Downloading data from https://storage.googleapis.com/tensorflow/tf-keras-datasets/t10k-labels-idx1-ubyte.gz\n",
      "8192/5148 [===============================================] - 0s 0us/step\n",
      "Downloading data from https://storage.googleapis.com/tensorflow/tf-keras-datasets/t10k-images-idx3-ubyte.gz\n",
      "4423680/4422102 [==============================] - 1s 0us/step\n"
     ]
    }
   ],
   "source": [
    "fashion_mnist = keras.datasets.fashion_mnist\n",
    "\n",
    "(train_images, train_labels), (test_images, test_labels) = fashion_mnist.load_data()"
   ]
  },
  {
   "cell_type": "code",
   "execution_count": 3,
   "metadata": {},
   "outputs": [],
   "source": [
    "class_names = ['T-shirt/top', 'Trouser', 'Pullover', 'Dress', 'Coat',\n",
    "               'Sandal', 'Shirt', 'Sneaker', 'Bag', 'Ankle boot']"
   ]
  },
  {
   "cell_type": "code",
   "execution_count": 4,
   "metadata": {},
   "outputs": [],
   "source": [
    "train_images = train_images / 255.0\n",
    "\n",
    "test_images = test_images / 255.0"
   ]
  },
  {
   "cell_type": "markdown",
   "metadata": {},
   "source": [
    "Попрообуем поварьировать кол-во нейронов и слоев для улучшения точности."
   ]
  },
  {
   "cell_type": "code",
   "execution_count": 5,
   "metadata": {},
   "outputs": [
    {
     "name": "stdout",
     "output_type": "stream",
     "text": [
      "WARNING:tensorflow:From D:\\Anaconda3\\lib\\site-packages\\tensorflow\\python\\ops\\init_ops.py:1251: calling VarianceScaling.__init__ (from tensorflow.python.ops.init_ops) with dtype is deprecated and will be removed in a future version.\n",
      "Instructions for updating:\n",
      "Call initializer instance with the dtype argument instead of passing it to the constructor\n"
     ]
    }
   ],
   "source": [
    "model = keras.Sequential([\n",
    "    keras.layers.Flatten(input_shape=(28, 28)),\n",
    "    keras.layers.Dense(128, activation='relu'),\n",
    "    keras.layers.Dense(128, activation='relu'),\n",
    "    keras.layers.Dense(10)\n",
    "])"
   ]
  },
  {
   "cell_type": "code",
   "execution_count": 6,
   "metadata": {},
   "outputs": [],
   "source": [
    "model.compile(optimizer='adam',\n",
    "              loss=tf.keras.losses.SparseCategoricalCrossentropy(from_logits=True),\n",
    "              metrics=['accuracy'])"
   ]
  },
  {
   "cell_type": "code",
   "execution_count": 9,
   "metadata": {},
   "outputs": [
    {
     "name": "stdout",
     "output_type": "stream",
     "text": [
      "Epoch 1/10\n",
      "60000/60000 [==============================] - 2s 41us/sample - loss: 0.2844 - acc: 0.8945\n",
      "Epoch 2/10\n",
      "60000/60000 [==============================] - 2s 41us/sample - loss: 0.2715 - acc: 0.8984\n",
      "Epoch 3/10\n",
      "60000/60000 [==============================] - 2s 41us/sample - loss: 0.2585 - acc: 0.9030\n",
      "Epoch 4/10\n",
      "60000/60000 [==============================] - 2s 39us/sample - loss: 0.2480 - acc: 0.9059\n",
      "Epoch 5/10\n",
      "60000/60000 [==============================] - 3s 44us/sample - loss: 0.2400 - acc: 0.9101\n",
      "Epoch 6/10\n",
      "60000/60000 [==============================] - 2s 41us/sample - loss: 0.2283 - acc: 0.9136\n",
      "Epoch 7/10\n",
      "60000/60000 [==============================] - 3s 48us/sample - loss: 0.2213 - acc: 0.9164\n",
      "Epoch 8/10\n",
      "60000/60000 [==============================] - 3s 47us/sample - loss: 0.2140 - acc: 0.9195\n",
      "Epoch 9/10\n",
      "60000/60000 [==============================] - 3s 47us/sample - loss: 0.2047 - acc: 0.9219\n",
      "Epoch 10/10\n",
      "60000/60000 [==============================] - 3s 43us/sample - loss: 0.1991 - acc: 0.9247\n"
     ]
    },
    {
     "data": {
      "text/plain": [
       "<tensorflow.python.keras.callbacks.History at 0x1eb52904cc0>"
      ]
     },
     "execution_count": 9,
     "metadata": {},
     "output_type": "execute_result"
    }
   ],
   "source": [
    "model.fit(train_images, train_labels, epochs=10)"
   ]
  },
  {
   "cell_type": "code",
   "execution_count": 10,
   "metadata": {},
   "outputs": [
    {
     "name": "stdout",
     "output_type": "stream",
     "text": [
      "10000/10000 [==============================] - 0s 19us/sample - loss: 0.3708 - acc: 0.8845\n"
     ]
    },
    {
     "data": {
      "text/plain": [
       "[0.3707964717507362, 0.8845]"
      ]
     },
     "execution_count": 10,
     "metadata": {},
     "output_type": "execute_result"
    }
   ],
   "source": [
    "model.evaluate(test_images, test_labels)"
   ]
  },
  {
   "cell_type": "code",
   "execution_count": 11,
   "metadata": {},
   "outputs": [
    {
     "name": "stdout",
     "output_type": "stream",
     "text": [
      "Epoch 1/10\n",
      "60000/60000 [==============================] - 4s 65us/sample - loss: 0.4761 - acc: 0.8281\n",
      "Epoch 2/10\n",
      "60000/60000 [==============================] - 4s 65us/sample - loss: 0.3628 - acc: 0.8671\n",
      "Epoch 3/10\n",
      "60000/60000 [==============================] - 4s 63us/sample - loss: 0.3254 - acc: 0.8804\n",
      "Epoch 4/10\n",
      "60000/60000 [==============================] - 4s 60us/sample - loss: 0.3051 - acc: 0.8867\n",
      "Epoch 5/10\n",
      "60000/60000 [==============================] - 4s 61us/sample - loss: 0.2842 - acc: 0.8933\n",
      "Epoch 6/10\n",
      "60000/60000 [==============================] - 4s 66us/sample - loss: 0.2707 - acc: 0.8989\n",
      "Epoch 7/10\n",
      "60000/60000 [==============================] - 4s 65us/sample - loss: 0.2574 - acc: 0.9028\n",
      "Epoch 8/10\n",
      "60000/60000 [==============================] - 4s 63us/sample - loss: 0.2456 - acc: 0.9072\n",
      "Epoch 9/10\n",
      "60000/60000 [==============================] - 4s 62us/sample - loss: 0.2368 - acc: 0.9106\n",
      "Epoch 10/10\n",
      "60000/60000 [==============================] - 4s 66us/sample - loss: 0.2259 - acc: 0.9140\n",
      "10000/10000 [==============================] - 0s 40us/sample - loss: 0.3412 - acc: 0.8863\n"
     ]
    },
    {
     "data": {
      "text/plain": [
       "[0.3412462587714195, 0.8863]"
      ]
     },
     "execution_count": 11,
     "metadata": {},
     "output_type": "execute_result"
    }
   ],
   "source": [
    "model = keras.Sequential([\n",
    "    keras.layers.Flatten(input_shape=(28, 28)),\n",
    "    keras.layers.Dense(180, activation='relu'),\n",
    "    keras.layers.Dense(180, activation='relu'),\n",
    "    keras.layers.Dense(10)\n",
    "])\n",
    "\n",
    "model.compile(optimizer='adam',\n",
    "              loss=tf.keras.losses.SparseCategoricalCrossentropy(from_logits=True),\n",
    "              metrics=['accuracy'])\n",
    "\n",
    "model.fit(train_images, train_labels, epochs=10)\n",
    "\n",
    "model.evaluate(test_images, test_labels)"
   ]
  },
  {
   "cell_type": "code",
   "execution_count": 12,
   "metadata": {},
   "outputs": [
    {
     "name": "stdout",
     "output_type": "stream",
     "text": [
      "Epoch 1/8\n",
      "60000/60000 [==============================] - 4s 72us/sample - loss: 0.4845 - acc: 0.8219\n",
      "Epoch 2/8\n",
      "60000/60000 [==============================] - 5s 79us/sample - loss: 0.3618 - acc: 0.8672\n",
      "Epoch 3/8\n",
      "60000/60000 [==============================] - 5s 85us/sample - loss: 0.3283 - acc: 0.8781\n",
      "Epoch 4/8\n",
      "60000/60000 [==============================] - 5s 77us/sample - loss: 0.3069 - acc: 0.8868\n",
      "Epoch 5/8\n",
      "60000/60000 [==============================] - 5s 85us/sample - loss: 0.2878 - acc: 0.8929\n",
      "Epoch 6/8\n",
      "60000/60000 [==============================] - 5s 82us/sample - loss: 0.2736 - acc: 0.8977\n",
      "Epoch 7/8\n",
      "60000/60000 [==============================] - 5s 78us/sample - loss: 0.2596 - acc: 0.9014\n",
      "Epoch 8/8\n",
      "60000/60000 [==============================] - 5s 80us/sample - loss: 0.2497 - acc: 0.9045\n",
      "10000/10000 [==============================] - 0s 38us/sample - loss: 0.3467 - acc: 0.8780\n"
     ]
    },
    {
     "data": {
      "text/plain": [
       "[0.34666734461784365, 0.878]"
      ]
     },
     "execution_count": 12,
     "metadata": {},
     "output_type": "execute_result"
    }
   ],
   "source": [
    "model = keras.Sequential([\n",
    "    keras.layers.Flatten(input_shape=(28, 28)),\n",
    "    keras.layers.Dense(180, activation='relu'),\n",
    "    keras.layers.Dense(180, activation='relu'),\n",
    "    keras.layers.Dense(180, activation='relu'),\n",
    "    keras.layers.Dense(10)\n",
    "])\n",
    "\n",
    "model.compile(optimizer='adam',\n",
    "              loss=tf.keras.losses.SparseCategoricalCrossentropy(from_logits=True),\n",
    "              metrics=['accuracy'])\n",
    "\n",
    "model.fit(train_images, train_labels, epochs=8)\n",
    "\n",
    "model.evaluate(test_images, test_labels)"
   ]
  },
  {
   "cell_type": "code",
   "execution_count": 13,
   "metadata": {},
   "outputs": [
    {
     "name": "stdout",
     "output_type": "stream",
     "text": [
      "Epoch 1/10\n",
      "60000/60000 [==============================] - 5s 79us/sample - loss: 0.4780 - acc: 0.8257\n",
      "Epoch 2/10\n",
      "60000/60000 [==============================] - 4s 74us/sample - loss: 0.3660 - acc: 0.8662\n",
      "Epoch 3/10\n",
      "60000/60000 [==============================] - 5s 78us/sample - loss: 0.3284 - acc: 0.8787\n",
      "Epoch 4/10\n",
      "60000/60000 [==============================] - 4s 74us/sample - loss: 0.3065 - acc: 0.8869\n",
      "Epoch 5/10\n",
      "60000/60000 [==============================] - 4s 73us/sample - loss: 0.2851 - acc: 0.8938\n",
      "Epoch 6/10\n",
      "60000/60000 [==============================] - 4s 74us/sample - loss: 0.2716 - acc: 0.8979\n",
      "Epoch 7/10\n",
      "60000/60000 [==============================] - 5s 80us/sample - loss: 0.2605 - acc: 0.9021\n",
      "Epoch 8/10\n",
      "60000/60000 [==============================] - 4s 73us/sample - loss: 0.2502 - acc: 0.9058\n",
      "Epoch 9/10\n",
      "60000/60000 [==============================] - 4s 74us/sample - loss: 0.2404 - acc: 0.9088\n",
      "Epoch 10/10\n",
      "60000/60000 [==============================] - 5s 76us/sample - loss: 0.2324 - acc: 0.9118\n",
      "10000/10000 [==============================] - 0s 44us/sample - loss: 0.3574 - acc: 0.8827\n"
     ]
    },
    {
     "data": {
      "text/plain": [
       "[0.35736971286535263, 0.8827]"
      ]
     },
     "execution_count": 13,
     "metadata": {},
     "output_type": "execute_result"
    }
   ],
   "source": [
    "model = keras.Sequential([\n",
    "    keras.layers.Flatten(input_shape=(28, 28)),\n",
    "    keras.layers.Dense(200, activation='relu'),\n",
    "    keras.layers.Dense(200, activation='relu'),\n",
    "    keras.layers.Dense(200, activation='relu'),\n",
    "    keras.layers.Dense(10)\n",
    "])\n",
    "\n",
    "model.compile(optimizer='adam',\n",
    "              loss=tf.keras.losses.SparseCategoricalCrossentropy(from_logits=True),\n",
    "              metrics=['accuracy'])\n",
    "\n",
    "model.fit(train_images, train_labels, epochs=10)\n",
    "\n",
    "model.evaluate(test_images, test_labels)"
   ]
  },
  {
   "cell_type": "code",
   "execution_count": 14,
   "metadata": {},
   "outputs": [
    {
     "name": "stdout",
     "output_type": "stream",
     "text": [
      "Epoch 1/12\n",
      "60000/60000 [==============================] - 6s 97us/sample - loss: 0.4918 - acc: 0.8196\n",
      "Epoch 2/12\n",
      "60000/60000 [==============================] - 5s 89us/sample - loss: 0.3720 - acc: 0.8634\n",
      "Epoch 3/12\n",
      "60000/60000 [==============================] - 4s 65us/sample - loss: 0.3371 - acc: 0.8761\n",
      "Epoch 4/12\n",
      "60000/60000 [==============================] - 4s 69us/sample - loss: 0.3132 - acc: 0.8830\n",
      "Epoch 5/12\n",
      "60000/60000 [==============================] - 4s 66us/sample - loss: 0.2947 - acc: 0.8906\n",
      "Epoch 6/12\n",
      "60000/60000 [==============================] - 5s 85us/sample - loss: 0.2816 - acc: 0.8942\n",
      "Epoch 7/12\n",
      "60000/60000 [==============================] - 5s 81us/sample - loss: 0.2662 - acc: 0.8989\n",
      "Epoch 8/12\n",
      "60000/60000 [==============================] - 5s 77us/sample - loss: 0.2571 - acc: 0.9031\n",
      "Epoch 9/12\n",
      "60000/60000 [==============================] - 4s 65us/sample - loss: 0.2457 - acc: 0.9067\n",
      "Epoch 10/12\n",
      "60000/60000 [==============================] - 4s 63us/sample - loss: 0.2382 - acc: 0.9099\n",
      "Epoch 11/12\n",
      "60000/60000 [==============================] - 4s 65us/sample - loss: 0.2309 - acc: 0.9119\n",
      "Epoch 12/12\n",
      "60000/60000 [==============================] - 4s 71us/sample - loss: 0.2218 - acc: 0.9157\n",
      "10000/10000 [==============================] - 0s 32us/sample - loss: 0.3352 - acc: 0.8900\n"
     ]
    },
    {
     "data": {
      "text/plain": [
       "[0.33520655923485754, 0.89]"
      ]
     },
     "execution_count": 14,
     "metadata": {},
     "output_type": "execute_result"
    }
   ],
   "source": [
    "model = keras.Sequential([\n",
    "    keras.layers.Flatten(input_shape=(28, 28)),\n",
    "    keras.layers.Dense(200, activation='relu'),\n",
    "    keras.layers.Dense(200, activation='relu'),\n",
    "    keras.layers.Dense(200, activation='relu'),\n",
    "    keras.layers.Dense(200, activation='relu'),\n",
    "    keras.layers.Dense(10)\n",
    "])\n",
    "\n",
    "model.compile(optimizer='adam',\n",
    "              loss=tf.keras.losses.SparseCategoricalCrossentropy(from_logits=True),\n",
    "              metrics=['accuracy'])\n",
    "\n",
    "model.fit(train_images, train_labels, epochs=12)\n",
    "\n",
    "model.evaluate(test_images, test_labels)"
   ]
  },
  {
   "cell_type": "code",
   "execution_count": 15,
   "metadata": {},
   "outputs": [
    {
     "name": "stdout",
     "output_type": "stream",
     "text": [
      "Epoch 1/12\n",
      "60000/60000 [==============================] - 6s 107us/sample - loss: 0.5059 - acc: 0.8147\n",
      "Epoch 2/12\n",
      "60000/60000 [==============================] - 7s 110us/sample - loss: 0.3845 - acc: 0.8598\n",
      "Epoch 3/12\n",
      "60000/60000 [==============================] - 6s 107us/sample - loss: 0.3444 - acc: 0.8742\n",
      "Epoch 4/12\n",
      "60000/60000 [==============================] - 6s 106us/sample - loss: 0.3215 - acc: 0.8832\n",
      "Epoch 5/12\n",
      "60000/60000 [==============================] - 7s 115us/sample - loss: 0.3019 - acc: 0.8890\n",
      "Epoch 6/12\n",
      "60000/60000 [==============================] - 6s 104us/sample - loss: 0.2907 - acc: 0.8928\n",
      "Epoch 7/12\n",
      "60000/60000 [==============================] - 6s 107us/sample - loss: 0.2786 - acc: 0.8991\n",
      "Epoch 8/12\n",
      "60000/60000 [==============================] - 5s 77us/sample - loss: 0.2653 - acc: 0.9019\n",
      "Epoch 9/12\n",
      "60000/60000 [==============================] - 5s 76us/sample - loss: 0.2561 - acc: 0.9050\n",
      "Epoch 10/12\n",
      "60000/60000 [==============================] - 5s 77us/sample - loss: 0.2490 - acc: 0.9072\n",
      "Epoch 11/12\n",
      "60000/60000 [==============================] - 5s 84us/sample - loss: 0.2394 - acc: 0.9107\n",
      "Epoch 12/12\n",
      "60000/60000 [==============================] - 5s 79us/sample - loss: 0.2340 - acc: 0.9124\n",
      "10000/10000 [==============================] - 0s 45us/sample - loss: 0.3390 - acc: 0.8847\n"
     ]
    },
    {
     "data": {
      "text/plain": [
       "[0.33898901295661926, 0.8847]"
      ]
     },
     "execution_count": 15,
     "metadata": {},
     "output_type": "execute_result"
    }
   ],
   "source": [
    "model = keras.Sequential([\n",
    "    keras.layers.Flatten(input_shape=(28, 28)),\n",
    "    keras.layers.Dense(220, activation='relu'),\n",
    "    keras.layers.Dense(220, activation='relu'),\n",
    "    keras.layers.Dense(220, activation='relu'),\n",
    "    keras.layers.Dense(220, activation='relu'),\n",
    "    keras.layers.Dense(220, activation='relu'),\n",
    "    keras.layers.Dense(10)\n",
    "])\n",
    "\n",
    "model.compile(optimizer='adam',\n",
    "              loss=tf.keras.losses.SparseCategoricalCrossentropy(from_logits=True),\n",
    "              metrics=['accuracy'])\n",
    "\n",
    "model.fit(train_images, train_labels, epochs=12)\n",
    "\n",
    "model.evaluate(test_images, test_labels)"
   ]
  },
  {
   "cell_type": "code",
   "execution_count": 16,
   "metadata": {},
   "outputs": [
    {
     "name": "stdout",
     "output_type": "stream",
     "text": [
      "Epoch 1/12\n",
      "60000/60000 [==============================] - 5s 79us/sample - loss: 0.5076 - acc: 0.8158\n",
      "Epoch 2/12\n",
      "60000/60000 [==============================] - 5s 80us/sample - loss: 0.3783 - acc: 0.8626\n",
      "Epoch 3/12\n",
      "60000/60000 [==============================] - 4s 73us/sample - loss: 0.3483 - acc: 0.8731\n",
      "Epoch 4/12\n",
      "60000/60000 [==============================] - 5s 78us/sample - loss: 0.3231 - acc: 0.8816\n",
      "Epoch 5/12\n",
      "60000/60000 [==============================] - 4s 74us/sample - loss: 0.3038 - acc: 0.8881\n",
      "Epoch 6/12\n",
      "60000/60000 [==============================] - 4s 75us/sample - loss: 0.2907 - acc: 0.8937\n",
      "Epoch 7/12\n",
      "60000/60000 [==============================] - 5s 80us/sample - loss: 0.2779 - acc: 0.8978\n",
      "Epoch 8/12\n",
      "60000/60000 [==============================] - 5s 76us/sample - loss: 0.2659 - acc: 0.9016\n",
      "Epoch 9/12\n",
      "60000/60000 [==============================] - 5s 78us/sample - loss: 0.2570 - acc: 0.9040\n",
      "Epoch 10/12\n",
      "60000/60000 [==============================] - 5s 87us/sample - loss: 0.2484 - acc: 0.9063\n",
      "Epoch 11/12\n",
      "60000/60000 [==============================] - 5s 77us/sample - loss: 0.2411 - acc: 0.9099\n",
      "Epoch 12/12\n",
      "60000/60000 [==============================] - 5s 78us/sample - loss: 0.2335 - acc: 0.9128\n",
      "10000/10000 [==============================] - 0s 41us/sample - loss: 0.3274 - acc: 0.8845\n"
     ]
    },
    {
     "data": {
      "text/plain": [
       "[0.3274161754488945, 0.8845]"
      ]
     },
     "execution_count": 16,
     "metadata": {},
     "output_type": "execute_result"
    }
   ],
   "source": [
    "model = keras.Sequential([\n",
    "    keras.layers.Flatten(input_shape=(28, 28)),\n",
    "    keras.layers.Dense(180, activation='relu'),\n",
    "    keras.layers.Dense(180, activation='relu'),\n",
    "    keras.layers.Dense(180, activation='relu'),\n",
    "    keras.layers.Dense(180, activation='relu'),\n",
    "    keras.layers.Dense(180, activation='relu'),\n",
    "    keras.layers.Dense(10)\n",
    "])\n",
    "\n",
    "model.compile(optimizer='adam',\n",
    "              loss=tf.keras.losses.SparseCategoricalCrossentropy(from_logits=True),\n",
    "              metrics=['accuracy'])\n",
    "\n",
    "model.fit(train_images, train_labels, epochs=12)\n",
    "\n",
    "model.evaluate(test_images, test_labels)"
   ]
  },
  {
   "cell_type": "code",
   "execution_count": 17,
   "metadata": {},
   "outputs": [
    {
     "name": "stdout",
     "output_type": "stream",
     "text": [
      "Epoch 1/12\n",
      "60000/60000 [==============================] - 6s 101us/sample - loss: 0.5014 - acc: 0.8179\n",
      "Epoch 2/12\n",
      "60000/60000 [==============================] - 6s 101us/sample - loss: 0.3805 - acc: 0.8617\n",
      "Epoch 3/12\n",
      "60000/60000 [==============================] - 6s 97us/sample - loss: 0.3450 - acc: 0.8741\n",
      "Epoch 4/12\n",
      "60000/60000 [==============================] - 6s 102us/sample - loss: 0.3225 - acc: 0.8825\n",
      "Epoch 5/12\n",
      "60000/60000 [==============================] - 6s 92us/sample - loss: 0.3026 - acc: 0.8887\n",
      "Epoch 6/12\n",
      "60000/60000 [==============================] - 6s 98us/sample - loss: 0.2907 - acc: 0.8939\n",
      "Epoch 7/12\n",
      "60000/60000 [==============================] - 6s 100us/sample - loss: 0.2757 - acc: 0.8975\n",
      "Epoch 8/12\n",
      "60000/60000 [==============================] - 6s 97us/sample - loss: 0.2639 - acc: 0.9016\n",
      "Epoch 9/12\n",
      "60000/60000 [==============================] - 6s 94us/sample - loss: 0.2566 - acc: 0.9041\n",
      "Epoch 10/12\n",
      "60000/60000 [==============================] - 6s 100us/sample - loss: 0.2490 - acc: 0.9077\n",
      "Epoch 11/12\n",
      "60000/60000 [==============================] - 6s 95us/sample - loss: 0.2403 - acc: 0.9118\n",
      "Epoch 12/12\n",
      "60000/60000 [==============================] - 6s 96us/sample - loss: 0.2321 - acc: 0.9139\n",
      "10000/10000 [==============================] - 1s 57us/sample - loss: 0.3635 - acc: 0.8861\n"
     ]
    },
    {
     "data": {
      "text/plain": [
       "[0.3635029647290707, 0.8861]"
      ]
     },
     "execution_count": 17,
     "metadata": {},
     "output_type": "execute_result"
    }
   ],
   "source": [
    "model = keras.Sequential([\n",
    "    keras.layers.Flatten(input_shape=(28, 28)),\n",
    "    keras.layers.Dense(256, activation='relu'),\n",
    "    keras.layers.Dense(256, activation='relu'),\n",
    "    keras.layers.Dense(256, activation='relu'),\n",
    "    keras.layers.Dense(256, activation='relu'),\n",
    "    keras.layers.Dense(256, activation='relu'),\n",
    "    keras.layers.Dense(10)\n",
    "])\n",
    "\n",
    "model.compile(optimizer='adam',\n",
    "              loss=tf.keras.losses.SparseCategoricalCrossentropy(from_logits=True),\n",
    "              metrics=['accuracy'])\n",
    "\n",
    "model.fit(train_images, train_labels, epochs=12)\n",
    "\n",
    "model.evaluate(test_images, test_labels)"
   ]
  },
  {
   "cell_type": "markdown",
   "metadata": {},
   "source": [
    "Есть разница в точности между тренировочными данными и валидационной выборкой из-за переобучения модели. Попробуем добавить регуляризацию для уменьшения этой разницы."
   ]
  },
  {
   "cell_type": "code",
   "execution_count": 18,
   "metadata": {},
   "outputs": [],
   "source": [
    "from tensorflow.keras import regularizers"
   ]
  },
  {
   "cell_type": "code",
   "execution_count": 20,
   "metadata": {},
   "outputs": [
    {
     "name": "stdout",
     "output_type": "stream",
     "text": [
      "Epoch 1/15\n",
      "60000/60000 [==============================] - 9s 145us/sample - loss: 0.9439 - acc: 0.8064\n",
      "Epoch 2/15\n",
      "60000/60000 [==============================] - 8s 137us/sample - loss: 0.5963 - acc: 0.8448\n",
      "Epoch 3/15\n",
      "60000/60000 [==============================] - 8s 139us/sample - loss: 0.5302 - acc: 0.8546\n",
      "Epoch 4/15\n",
      "60000/60000 [==============================] - 8s 126us/sample - loss: 0.5037 - acc: 0.8608\n",
      "Epoch 5/15\n",
      "60000/60000 [==============================] - 8s 130us/sample - loss: 0.4860 - acc: 0.8640\n",
      "Epoch 6/15\n",
      "60000/60000 [==============================] - 8s 126us/sample - loss: 0.4733 - acc: 0.8654\n",
      "Epoch 7/15\n",
      "60000/60000 [==============================] - 8s 127us/sample - loss: 0.4642 - acc: 0.8687\n",
      "Epoch 8/15\n",
      "60000/60000 [==============================] - 8s 126us/sample - loss: 0.4553 - acc: 0.8705\n",
      "Epoch 9/15\n",
      "60000/60000 [==============================] - 8s 131us/sample - loss: 0.4500 - acc: 0.8714\n",
      "Epoch 10/15\n",
      "60000/60000 [==============================] - 8s 128us/sample - loss: 0.4449 - acc: 0.8729\n",
      "Epoch 11/15\n",
      "60000/60000 [==============================] - 8s 130us/sample - loss: 0.4421 - acc: 0.8735\n",
      "Epoch 12/15\n",
      "60000/60000 [==============================] - 8s 127us/sample - loss: 0.4405 - acc: 0.8725\n",
      "Epoch 13/15\n",
      "60000/60000 [==============================] - 8s 132us/sample - loss: 0.4350 - acc: 0.8752\n",
      "Epoch 14/15\n",
      "60000/60000 [==============================] - 8s 130us/sample - loss: 0.4331 - acc: 0.8741\n",
      "Epoch 15/15\n",
      "60000/60000 [==============================] - 8s 133us/sample - loss: 0.4308 - acc: 0.8748\n",
      "10000/10000 [==============================] - 1s 65us/sample - loss: 0.4680 - acc: 0.8616\n"
     ]
    },
    {
     "data": {
      "text/plain": [
       "[0.46796150336265563, 0.8616]"
      ]
     },
     "execution_count": 20,
     "metadata": {},
     "output_type": "execute_result"
    }
   ],
   "source": [
    "model = keras.Sequential([\n",
    "    keras.layers.Flatten(input_shape=(28, 28)),\n",
    "    keras.layers.Dense(256, activation='relu', kernel_regularizer=regularizers.l2(0.001)),\n",
    "    keras.layers.Dense(256, activation='relu', kernel_regularizer=regularizers.l2(0.001)),\n",
    "    keras.layers.Dense(256, activation='relu', kernel_regularizer=regularizers.l2(0.001)),\n",
    "    keras.layers.Dense(256, activation='relu', kernel_regularizer=regularizers.l2(0.001)),\n",
    "    keras.layers.Dense(256, activation='relu', kernel_regularizer=regularizers.l2(0.001)),\n",
    "    keras.layers.Dense(10)\n",
    "])\n",
    "\n",
    "model.compile(optimizer='adam',\n",
    "              loss=tf.keras.losses.SparseCategoricalCrossentropy(from_logits=True),\n",
    "              metrics=['accuracy'])\n",
    "\n",
    "model.fit(train_images, train_labels, epochs=15)\n",
    "\n",
    "model.evaluate(test_images, test_labels)"
   ]
  },
  {
   "cell_type": "code",
   "execution_count": 21,
   "metadata": {},
   "outputs": [
    {
     "name": "stdout",
     "output_type": "stream",
     "text": [
      "Epoch 1/20\n",
      "60000/60000 [==============================] - 14s 241us/sample - loss: 1.0462 - acc: 0.7982\n",
      "Epoch 2/20\n",
      "60000/60000 [==============================] - 16s 259us/sample - loss: 0.5952 - acc: 0.8420\n",
      "Epoch 3/20\n",
      "60000/60000 [==============================] - 16s 271us/sample - loss: 0.5367 - acc: 0.8539\n",
      "Epoch 4/20\n",
      "60000/60000 [==============================] - 16s 275us/sample - loss: 0.5094 - acc: 0.8600\n",
      "Epoch 5/20\n",
      "60000/60000 [==============================] - 17s 282us/sample - loss: 0.4939 - acc: 0.8618\n",
      "Epoch 6/20\n",
      "60000/60000 [==============================] - 16s 267us/sample - loss: 0.4762 - acc: 0.8662\n",
      "Epoch 7/20\n",
      "60000/60000 [==============================] - 16s 269us/sample - loss: 0.4646 - acc: 0.8692\n",
      "Epoch 8/20\n",
      "60000/60000 [==============================] - 14s 241us/sample - loss: 0.4609 - acc: 0.8690\n",
      "Epoch 9/20\n",
      "60000/60000 [==============================] - 14s 235us/sample - loss: 0.4562 - acc: 0.8706\n",
      "Epoch 10/20\n",
      "60000/60000 [==============================] - 15s 249us/sample - loss: 0.4498 - acc: 0.8715\n",
      "Epoch 11/20\n",
      "60000/60000 [==============================] - 15s 242us/sample - loss: 0.4487 - acc: 0.8722\n",
      "Epoch 12/20\n",
      "60000/60000 [==============================] - 14s 238us/sample - loss: 0.4432 - acc: 0.8740\n",
      "Epoch 13/20\n",
      "60000/60000 [==============================] - 15s 242us/sample - loss: 0.4395 - acc: 0.8744\n",
      "Epoch 14/20\n",
      "60000/60000 [==============================] - 14s 239us/sample - loss: 0.4363 - acc: 0.8749\n",
      "Epoch 15/20\n",
      "60000/60000 [==============================] - 14s 242us/sample - loss: 0.4364 - acc: 0.8752\n",
      "Epoch 16/20\n",
      "60000/60000 [==============================] - 15s 246us/sample - loss: 0.4313 - acc: 0.8774\n",
      "Epoch 17/20\n",
      "60000/60000 [==============================] - 15s 245us/sample - loss: 0.4303 - acc: 0.8762\n",
      "Epoch 18/20\n",
      "60000/60000 [==============================] - 15s 242us/sample - loss: 0.4282 - acc: 0.8769\n",
      "Epoch 19/20\n",
      "60000/60000 [==============================] - 15s 242us/sample - loss: 0.4231 - acc: 0.8775\n",
      "Epoch 20/20\n",
      "60000/60000 [==============================] - 14s 241us/sample - loss: 0.4247 - acc: 0.8781\n",
      "10000/10000 [==============================] - 1s 116us/sample - loss: 0.4816 - acc: 0.8608\n"
     ]
    },
    {
     "data": {
      "text/plain": [
       "[0.4816193678855896, 0.8608]"
      ]
     },
     "execution_count": 21,
     "metadata": {},
     "output_type": "execute_result"
    }
   ],
   "source": [
    "model = keras.Sequential([\n",
    "    keras.layers.Flatten(input_shape=(28, 28)),\n",
    "    keras.layers.Dense(512, activation='relu', kernel_regularizer=regularizers.l2(0.001)),\n",
    "    keras.layers.Dense(512, activation='relu', kernel_regularizer=regularizers.l2(0.001)),\n",
    "    keras.layers.Dense(512, activation='relu', kernel_regularizer=regularizers.l2(0.001)),\n",
    "    keras.layers.Dense(512, activation='relu', kernel_regularizer=regularizers.l2(0.001)),\n",
    "    keras.layers.Dense(512, activation='relu', kernel_regularizer=regularizers.l2(0.001)),\n",
    "    keras.layers.Dense(10)\n",
    "])\n",
    "\n",
    "model.compile(optimizer='adam',\n",
    "              loss=tf.keras.losses.SparseCategoricalCrossentropy(from_logits=True),\n",
    "              metrics=['accuracy'])\n",
    "\n",
    "model.fit(train_images, train_labels, epochs=20)\n",
    "\n",
    "model.evaluate(test_images, test_labels)"
   ]
  },
  {
   "cell_type": "code",
   "execution_count": 22,
   "metadata": {},
   "outputs": [
    {
     "name": "stdout",
     "output_type": "stream",
     "text": [
      "Epoch 1/12\n",
      "60000/60000 [==============================] - 7s 116us/sample - loss: 0.8551 - acc: 0.8124\n",
      "Epoch 2/12\n",
      "60000/60000 [==============================] - 7s 114us/sample - loss: 0.5786 - acc: 0.8461\n",
      "Epoch 3/12\n",
      "60000/60000 [==============================] - 7s 109us/sample - loss: 0.5238 - acc: 0.8536\n",
      "Epoch 4/12\n",
      "60000/60000 [==============================] - 7s 114us/sample - loss: 0.4925 - acc: 0.8619\n",
      "Epoch 5/12\n",
      "60000/60000 [==============================] - 6s 106us/sample - loss: 0.4790 - acc: 0.8642\n",
      "Epoch 6/12\n",
      "60000/60000 [==============================] - 7s 111us/sample - loss: 0.4663 - acc: 0.8681\n",
      "Epoch 7/12\n",
      "60000/60000 [==============================] - 6s 106us/sample - loss: 0.4579 - acc: 0.8683\n",
      "Epoch 8/12\n",
      "60000/60000 [==============================] - 7s 111us/sample - loss: 0.4490 - acc: 0.8700\n",
      "Epoch 9/12\n",
      "60000/60000 [==============================] - 7s 109us/sample - loss: 0.4432 - acc: 0.8725\n",
      "Epoch 10/12\n",
      "60000/60000 [==============================] - 6s 106us/sample - loss: 0.4379 - acc: 0.8733\n",
      "Epoch 11/12\n",
      "60000/60000 [==============================] - 7s 111us/sample - loss: 0.4343 - acc: 0.8733\n",
      "Epoch 12/12\n",
      "60000/60000 [==============================] - 6s 106us/sample - loss: 0.4318 - acc: 0.8740\n",
      "10000/10000 [==============================] - 1s 67us/sample - loss: 0.4829 - acc: 0.8551\n"
     ]
    },
    {
     "data": {
      "text/plain": [
       "[0.48286692638397216, 0.8551]"
      ]
     },
     "execution_count": 22,
     "metadata": {},
     "output_type": "execute_result"
    }
   ],
   "source": [
    "model = keras.Sequential([\n",
    "    keras.layers.Flatten(input_shape=(28, 28)),\n",
    "    keras.layers.Dense(200, activation='relu', kernel_regularizer=regularizers.l2(0.001)),\n",
    "    keras.layers.Dense(200, activation='relu', kernel_regularizer=regularizers.l2(0.001)),\n",
    "    keras.layers.Dense(200, activation='relu', kernel_regularizer=regularizers.l2(0.001)),\n",
    "    keras.layers.Dense(200, activation='relu', kernel_regularizer=regularizers.l2(0.001)),\n",
    "    keras.layers.Dense(10)\n",
    "])\n",
    "\n",
    "model.compile(optimizer='adam',\n",
    "              loss=tf.keras.losses.SparseCategoricalCrossentropy(from_logits=True),\n",
    "              metrics=['accuracy'])\n",
    "\n",
    "model.fit(train_images, train_labels, epochs=12)\n",
    "\n",
    "model.evaluate(test_images, test_labels)"
   ]
  },
  {
   "cell_type": "markdown",
   "metadata": {},
   "source": [
    "Регуляризация с коеффициентом 0.001 оказалась слишком сильной, попробуем ее уменьшить."
   ]
  },
  {
   "cell_type": "code",
   "execution_count": 24,
   "metadata": {},
   "outputs": [
    {
     "name": "stdout",
     "output_type": "stream",
     "text": [
      "Epoch 1/12\n",
      "60000/60000 [==============================] - 8s 128us/sample - loss: 0.5677 - acc: 0.8189\n",
      "Epoch 2/12\n",
      "60000/60000 [==============================] - 7s 121us/sample - loss: 0.4441 - acc: 0.8620\n",
      "Epoch 3/12\n",
      "60000/60000 [==============================] - 7s 117us/sample - loss: 0.4133 - acc: 0.8720\n",
      "Epoch 4/12\n",
      "60000/60000 [==============================] - 7s 115us/sample - loss: 0.3923 - acc: 0.8786\n",
      "Epoch 5/12\n",
      "60000/60000 [==============================] - 7s 119us/sample - loss: 0.3755 - acc: 0.8840\n",
      "Epoch 6/12\n",
      "60000/60000 [==============================] - 7s 114us/sample - loss: 0.3639 - acc: 0.8884\n",
      "Epoch 7/12\n",
      "60000/60000 [==============================] - 7s 117us/sample - loss: 0.3541 - acc: 0.8900\n",
      "Epoch 8/12\n",
      "60000/60000 [==============================] - 7s 115us/sample - loss: 0.3485 - acc: 0.8923\n",
      "Epoch 9/12\n",
      "60000/60000 [==============================] - 7s 122us/sample - loss: 0.3388 - acc: 0.8956\n",
      "Epoch 10/12\n",
      "60000/60000 [==============================] - 7s 123us/sample - loss: 0.3365 - acc: 0.8973\n",
      "Epoch 11/12\n",
      "60000/60000 [==============================] - 7s 124us/sample - loss: 0.3295 - acc: 0.8989\n",
      "Epoch 12/12\n",
      "60000/60000 [==============================] - 7s 118us/sample - loss: 0.3247 - acc: 0.9011\n",
      "10000/10000 [==============================] - 1s 62us/sample - loss: 0.3951 - acc: 0.8818\n"
     ]
    },
    {
     "data": {
      "text/plain": [
       "[0.39509349257946014, 0.8818]"
      ]
     },
     "execution_count": 24,
     "metadata": {},
     "output_type": "execute_result"
    }
   ],
   "source": [
    "model = keras.Sequential([\n",
    "    keras.layers.Flatten(input_shape=(28, 28)),\n",
    "    keras.layers.Dense(200, activation='relu', kernel_regularizer=regularizers.l2(0.0001)),\n",
    "    keras.layers.Dense(200, activation='relu', kernel_regularizer=regularizers.l2(0.0001)),\n",
    "    keras.layers.Dense(200, activation='relu', kernel_regularizer=regularizers.l2(0.0001)),\n",
    "    keras.layers.Dense(200, activation='relu', kernel_regularizer=regularizers.l2(0.0001)),\n",
    "    keras.layers.Dense(10)\n",
    "])\n",
    "\n",
    "model.compile(optimizer='adam',\n",
    "              loss=tf.keras.losses.SparseCategoricalCrossentropy(from_logits=True),\n",
    "              metrics=['accuracy'])\n",
    "\n",
    "model.fit(train_images, train_labels, epochs=12)\n",
    "\n",
    "model.evaluate(test_images, test_labels)"
   ]
  },
  {
   "cell_type": "code",
   "execution_count": 25,
   "metadata": {},
   "outputs": [
    {
     "name": "stdout",
     "output_type": "stream",
     "text": [
      "Epoch 1/12\n",
      "60000/60000 [==============================] - 9s 142us/sample - loss: 0.6377 - acc: 0.8201\n",
      "Epoch 2/12\n",
      "60000/60000 [==============================] - 8s 130us/sample - loss: 0.4929 - acc: 0.8585\n",
      "Epoch 3/12\n",
      "60000/60000 [==============================] - 8s 135us/sample - loss: 0.4454 - acc: 0.8696\n",
      "Epoch 4/12\n",
      "60000/60000 [==============================] - 8s 130us/sample - loss: 0.4196 - acc: 0.8748\n",
      "Epoch 5/12\n",
      "60000/60000 [==============================] - 8s 137us/sample - loss: 0.4008 - acc: 0.8787\n",
      "Epoch 6/12\n",
      "60000/60000 [==============================] - 8s 130us/sample - loss: 0.3917 - acc: 0.8816\n",
      "Epoch 7/12\n",
      "60000/60000 [==============================] - 9s 142us/sample - loss: 0.3806 - acc: 0.8852s - loss: 0.3799 - acc:\n",
      "Epoch 8/12\n",
      "60000/60000 [==============================] - 8s 133us/sample - loss: 0.3709 - acc: 0.8882\n",
      "Epoch 9/12\n",
      "60000/60000 [==============================] - 9s 147us/sample - loss: 0.3662 - acc: 0.8904\n",
      "Epoch 10/12\n",
      "60000/60000 [==============================] - 8s 134us/sample - loss: 0.3605 - acc: 0.8915\n",
      "Epoch 11/12\n",
      "60000/60000 [==============================] - 8s 137us/sample - loss: 0.3577 - acc: 0.8930\n",
      "Epoch 12/12\n",
      "60000/60000 [==============================] - 8s 136us/sample - loss: 0.3530 - acc: 0.8942\n",
      "10000/10000 [==============================] - 1s 78us/sample - loss: 0.4464 - acc: 0.8632\n"
     ]
    },
    {
     "data": {
      "text/plain": [
       "[0.44644105544090273, 0.8632]"
      ]
     },
     "execution_count": 25,
     "metadata": {},
     "output_type": "execute_result"
    }
   ],
   "source": [
    "model = keras.Sequential([\n",
    "    keras.layers.Flatten(input_shape=(28, 28)),\n",
    "    keras.layers.Dense(256, activation='relu', kernel_regularizer=regularizers.l2(0.0002)),\n",
    "    keras.layers.Dense(256, activation='relu', kernel_regularizer=regularizers.l2(0.0002)),\n",
    "    keras.layers.Dense(256, activation='relu', kernel_regularizer=regularizers.l2(0.0002)),\n",
    "    keras.layers.Dense(256, activation='relu', kernel_regularizer=regularizers.l2(0.0002)),\n",
    "    keras.layers.Dense(10)\n",
    "])\n",
    "\n",
    "model.compile(optimizer='adam',\n",
    "              loss=tf.keras.losses.SparseCategoricalCrossentropy(from_logits=True),\n",
    "              metrics=['accuracy'])\n",
    "\n",
    "model.fit(train_images, train_labels, epochs=12)\n",
    "\n",
    "model.evaluate(test_images, test_labels)"
   ]
  },
  {
   "cell_type": "code",
   "execution_count": 26,
   "metadata": {},
   "outputs": [
    {
     "name": "stdout",
     "output_type": "stream",
     "text": [
      "Epoch 1/12\n",
      "60000/60000 [==============================] - 9s 151us/sample - loss: 0.6910 - acc: 0.8191\n",
      "Epoch 2/12\n",
      "60000/60000 [==============================] - 8s 137us/sample - loss: 0.5214 - acc: 0.8553\n",
      "Epoch 3/12\n",
      "60000/60000 [==============================] - 9s 143us/sample - loss: 0.4645 - acc: 0.8664\n",
      "Epoch 4/12\n",
      "60000/60000 [==============================] - 8s 139us/sample - loss: 0.4383 - acc: 0.8727\n",
      "Epoch 5/12\n",
      "60000/60000 [==============================] - 9s 143us/sample - loss: 0.4176 - acc: 0.8760\n",
      "Epoch 6/12\n",
      "60000/60000 [==============================] - 8s 138us/sample - loss: 0.4071 - acc: 0.8798\n",
      "Epoch 7/12\n",
      "60000/60000 [==============================] - 9s 142us/sample - loss: 0.3941 - acc: 0.8836\n",
      "Epoch 8/12\n",
      "60000/60000 [==============================] - 9s 143us/sample - loss: 0.3898 - acc: 0.8842\n",
      "Epoch 9/12\n",
      "60000/60000 [==============================] - 9s 143us/sample - loss: 0.3803 - acc: 0.8866\n",
      "Epoch 10/12\n",
      "60000/60000 [==============================] - 9s 149us/sample - loss: 0.3775 - acc: 0.8872\n",
      "Epoch 11/12\n",
      "60000/60000 [==============================] - 9s 147us/sample - loss: 0.3744 - acc: 0.8881\n",
      "Epoch 12/12\n",
      "60000/60000 [==============================] - 9s 149us/sample - loss: 0.3682 - acc: 0.8896\n",
      "10000/10000 [==============================] - 1s 67us/sample - loss: 0.4355 - acc: 0.8680\n"
     ]
    },
    {
     "data": {
      "text/plain": [
       "[0.4354605749845505, 0.868]"
      ]
     },
     "execution_count": 26,
     "metadata": {},
     "output_type": "execute_result"
    }
   ],
   "source": [
    "model = keras.Sequential([\n",
    "    keras.layers.Flatten(input_shape=(28, 28)),\n",
    "    keras.layers.Dense(256, activation='relu', kernel_regularizer=regularizers.l2(0.0003)),\n",
    "    keras.layers.Dense(256, activation='relu', kernel_regularizer=regularizers.l2(0.0003)),\n",
    "    keras.layers.Dense(256, activation='relu', kernel_regularizer=regularizers.l2(0.0003)),\n",
    "    keras.layers.Dense(256, activation='relu', kernel_regularizer=regularizers.l2(0.0003)),\n",
    "    keras.layers.Dense(10)\n",
    "])\n",
    "\n",
    "model.compile(optimizer='adam',\n",
    "              loss=tf.keras.losses.SparseCategoricalCrossentropy(from_logits=True),\n",
    "              metrics=['accuracy'])\n",
    "\n",
    "model.fit(train_images, train_labels, epochs=12)\n",
    "\n",
    "model.evaluate(test_images, test_labels)"
   ]
  },
  {
   "cell_type": "markdown",
   "metadata": {},
   "source": [
    "Теперь попробуем другой способ регуляризации. Добавим Dropout слой."
   ]
  },
  {
   "cell_type": "code",
   "execution_count": 29,
   "metadata": {},
   "outputs": [
    {
     "name": "stdout",
     "output_type": "stream",
     "text": [
      "Epoch 1/12\n",
      "60000/60000 [==============================] - 8s 133us/sample - loss: 0.5219 - acc: 0.8119\n",
      "Epoch 2/12\n",
      "60000/60000 [==============================] - 8s 128us/sample - loss: 0.3870 - acc: 0.8607\n",
      "Epoch 3/12\n",
      "60000/60000 [==============================] - 7s 124us/sample - loss: 0.3513 - acc: 0.8726\n",
      "Epoch 4/12\n",
      "60000/60000 [==============================] - 8s 128us/sample - loss: 0.3289 - acc: 0.8807\n",
      "Epoch 5/12\n",
      "60000/60000 [==============================] - 7s 121us/sample - loss: 0.3098 - acc: 0.8879\n",
      "Epoch 6/12\n",
      "60000/60000 [==============================] - 8s 126us/sample - loss: 0.3002 - acc: 0.8903\n",
      "Epoch 7/12\n",
      "60000/60000 [==============================] - 7s 124us/sample - loss: 0.2881 - acc: 0.8939\n",
      "Epoch 8/12\n",
      "60000/60000 [==============================] - 8s 127us/sample - loss: 0.2777 - acc: 0.8972\n",
      "Epoch 9/12\n",
      "60000/60000 [==============================] - 8s 125us/sample - loss: 0.2712 - acc: 0.9010\n",
      "Epoch 10/12\n",
      "60000/60000 [==============================] - 8s 128us/sample - loss: 0.2624 - acc: 0.9039\n",
      "Epoch 11/12\n",
      "60000/60000 [==============================] - 8s 131us/sample - loss: 0.2571 - acc: 0.9050\n",
      "Epoch 12/12\n",
      "60000/60000 [==============================] - 8s 133us/sample - loss: 0.2502 - acc: 0.9072\n",
      "10000/10000 [==============================] - 1s 78us/sample - loss: 0.3370 - acc: 0.8804\n"
     ]
    },
    {
     "data": {
      "text/plain": [
       "[0.3370477528572082, 0.8804]"
      ]
     },
     "execution_count": 29,
     "metadata": {},
     "output_type": "execute_result"
    }
   ],
   "source": [
    "model = keras.Sequential([\n",
    "    keras.layers.Flatten(input_shape=(28, 28)),\n",
    "    keras.layers.Dense(200, activation='relu'),\n",
    "    keras.layers.Dense(200, activation='relu'),\n",
    "    keras.layers.Dropout(0.2),\n",
    "    keras.layers.Dense(200, activation='relu'),\n",
    "    keras.layers.Dense(200, activation='relu'),\n",
    "    keras.layers.Dropout(0.2),\n",
    "    keras.layers.Dense(10)\n",
    "])\n",
    "\n",
    "model.compile(optimizer='adam',\n",
    "              loss=tf.keras.losses.SparseCategoricalCrossentropy(from_logits=True),\n",
    "              metrics=['accuracy'])\n",
    "\n",
    "model.fit(train_images, train_labels, epochs=12)\n",
    "\n",
    "model.evaluate(test_images, test_labels)"
   ]
  },
  {
   "cell_type": "code",
   "execution_count": 30,
   "metadata": {},
   "outputs": [
    {
     "name": "stdout",
     "output_type": "stream",
     "text": [
      "Epoch 1/12\n",
      "60000/60000 [==============================] - 12s 194us/sample - loss: 0.5817 - acc: 0.7912\n",
      "Epoch 2/12\n",
      "60000/60000 [==============================] - 11s 181us/sample - loss: 0.4410 - acc: 0.8429\n",
      "Epoch 3/12\n",
      "60000/60000 [==============================] - 11s 177us/sample - loss: 0.4088 - acc: 0.8545\n",
      "Epoch 4/12\n",
      "60000/60000 [==============================] - 11s 182us/sample - loss: 0.3897 - acc: 0.8614\n",
      "Epoch 5/12\n",
      "60000/60000 [==============================] - 11s 183us/sample - loss: 0.3758 - acc: 0.8659\n",
      "Epoch 6/12\n",
      "60000/60000 [==============================] - 11s 180us/sample - loss: 0.3654 - acc: 0.8701\n",
      "Epoch 7/12\n",
      "60000/60000 [==============================] - 11s 182us/sample - loss: 0.3546 - acc: 0.8730\n",
      "Epoch 8/12\n",
      "60000/60000 [==============================] - 11s 186us/sample - loss: 0.3436 - acc: 0.8770\n",
      "Epoch 9/12\n",
      "60000/60000 [==============================] - 11s 186us/sample - loss: 0.3353 - acc: 0.8807\n",
      "Epoch 10/12\n",
      "60000/60000 [==============================] - 11s 183us/sample - loss: 0.3338 - acc: 0.8812\n",
      "Epoch 11/12\n",
      "60000/60000 [==============================] - 11s 182us/sample - loss: 0.3233 - acc: 0.8836\n",
      "Epoch 12/12\n",
      "60000/60000 [==============================] - 11s 184us/sample - loss: 0.3223 - acc: 0.8852\n",
      "10000/10000 [==============================] - 1s 75us/sample - loss: 0.3502 - acc: 0.8810\n"
     ]
    },
    {
     "data": {
      "text/plain": [
       "[0.3502184754014015, 0.881]"
      ]
     },
     "execution_count": 30,
     "metadata": {},
     "output_type": "execute_result"
    }
   ],
   "source": [
    "model = keras.Sequential([\n",
    "    keras.layers.Flatten(input_shape=(28, 28)),\n",
    "    keras.layers.Dense(256, activation='relu'),\n",
    "    keras.layers.Dropout(0.2),\n",
    "    keras.layers.Dense(256, activation='relu'),\n",
    "    keras.layers.Dropout(0.2),\n",
    "    keras.layers.Dense(256, activation='relu'),\n",
    "    keras.layers.Dropout(0.2),\n",
    "    keras.layers.Dense(256, activation='relu'),\n",
    "    keras.layers.Dropout(0.2),\n",
    "    keras.layers.Dense(256, activation='relu'),\n",
    "    keras.layers.Dense(10)\n",
    "])\n",
    "\n",
    "model.compile(optimizer='adam',\n",
    "              loss=tf.keras.losses.SparseCategoricalCrossentropy(from_logits=True),\n",
    "              metrics=['accuracy'])\n",
    "\n",
    "model.fit(train_images, train_labels, epochs=12)\n",
    "\n",
    "model.evaluate(test_images, test_labels)"
   ]
  },
  {
   "cell_type": "code",
   "execution_count": 31,
   "metadata": {},
   "outputs": [
    {
     "name": "stdout",
     "output_type": "stream",
     "text": [
      "Epoch 1/14\n",
      "60000/60000 [==============================] - 14s 240us/sample - loss: 0.5682 - acc: 0.7948\n",
      "Epoch 2/14\n",
      "60000/60000 [==============================] - 14s 232us/sample - loss: 0.4473 - acc: 0.8417\n",
      "Epoch 3/14\n",
      "60000/60000 [==============================] - 17s 277us/sample - loss: 0.4121 - acc: 0.8546\n",
      "Epoch 4/14\n",
      "60000/60000 [==============================] - 16s 272us/sample - loss: 0.3927 - acc: 0.8626\n",
      "Epoch 5/14\n",
      "60000/60000 [==============================] - 16s 269us/sample - loss: 0.3768 - acc: 0.8658\n",
      "Epoch 6/14\n",
      "60000/60000 [==============================] - 15s 253us/sample - loss: 0.3659 - acc: 0.8699\n",
      "Epoch 7/14\n",
      "60000/60000 [==============================] - 15s 243us/sample - loss: 0.3529 - acc: 0.8747\n",
      "Epoch 8/14\n",
      "60000/60000 [==============================] - 16s 259us/sample - loss: 0.3485 - acc: 0.8755\n",
      "Epoch 9/14\n",
      "60000/60000 [==============================] - 15s 250us/sample - loss: 0.3376 - acc: 0.8816\n",
      "Epoch 10/14\n",
      "60000/60000 [==============================] - 15s 258us/sample - loss: 0.3298 - acc: 0.8838\n",
      "Epoch 11/14\n",
      "60000/60000 [==============================] - 15s 243us/sample - loss: 0.3258 - acc: 0.8833\n",
      "Epoch 12/14\n",
      "60000/60000 [==============================] - 15s 242us/sample - loss: 0.3192 - acc: 0.8853\n",
      "Epoch 13/14\n",
      "60000/60000 [==============================] - 15s 242us/sample - loss: 0.3172 - acc: 0.8874\n",
      "Epoch 14/14\n",
      "60000/60000 [==============================] - 15s 244us/sample - loss: 0.3147 - acc: 0.8887\n",
      "10000/10000 [==============================] - 1s 102us/sample - loss: 0.3497 - acc: 0.8785\n"
     ]
    },
    {
     "data": {
      "text/plain": [
       "[0.3497237119436264, 0.8785]"
      ]
     },
     "execution_count": 31,
     "metadata": {},
     "output_type": "execute_result"
    }
   ],
   "source": [
    "model = keras.Sequential([\n",
    "    keras.layers.Flatten(input_shape=(28, 28)),\n",
    "    keras.layers.Dense(512, activation='relu'),\n",
    "    keras.layers.Dropout(0.2),\n",
    "    keras.layers.Dense(512, activation='relu'),\n",
    "    keras.layers.Dropout(0.2),\n",
    "    keras.layers.Dense(512, activation='relu'),\n",
    "    keras.layers.Dropout(0.2),\n",
    "    keras.layers.Dense(512, activation='relu'),\n",
    "    keras.layers.Dropout(0.2),\n",
    "    keras.layers.Dense(512, activation='relu'),\n",
    "    keras.layers.Dense(10)\n",
    "])\n",
    "\n",
    "model.compile(optimizer='adam',\n",
    "              loss=tf.keras.losses.SparseCategoricalCrossentropy(from_logits=True),\n",
    "              metrics=['accuracy'])\n",
    "\n",
    "model.fit(train_images, train_labels, epochs=14)\n",
    "\n",
    "model.evaluate(test_images, test_labels)"
   ]
  },
  {
   "cell_type": "markdown",
   "metadata": {},
   "source": [
    "В итоге самая лучшаая модель получилась с 10 слоями 4 из которых это Dropout, по 256 нейрона в слое. Ее точность на валидационной выборке максимально приближена к точности на тренировочной выборке и составила 0.8810."
   ]
  },
  {
   "cell_type": "code",
   "execution_count": null,
   "metadata": {},
   "outputs": [],
   "source": []
  }
 ],
 "metadata": {
  "kernelspec": {
   "display_name": "Python 3",
   "language": "python",
   "name": "python3"
  },
  "language_info": {
   "codemirror_mode": {
    "name": "ipython",
    "version": 3
   },
   "file_extension": ".py",
   "mimetype": "text/x-python",
   "name": "python",
   "nbconvert_exporter": "python",
   "pygments_lexer": "ipython3",
   "version": "3.7.3"
  }
 },
 "nbformat": 4,
 "nbformat_minor": 2
}
