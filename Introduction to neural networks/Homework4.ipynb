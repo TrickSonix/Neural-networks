{
 "cells": [
  {
   "cell_type": "code",
   "execution_count": 1,
   "metadata": {},
   "outputs": [
    {
     "name": "stderr",
     "output_type": "stream",
     "text": [
      "Using TensorFlow backend.\n"
     ]
    }
   ],
   "source": [
    "import keras\n",
    "from keras.datasets import cifar10\n",
    "from keras.preprocessing.image import ImageDataGenerator\n",
    "from keras.models import Sequential\n",
    "from keras.layers import Dense, Dropout, Activation, Flatten\n",
    "from keras.layers import Conv2D, MaxPooling2D"
   ]
  },
  {
   "cell_type": "code",
   "execution_count": 2,
   "metadata": {},
   "outputs": [
    {
     "name": "stdout",
     "output_type": "stream",
     "text": [
      "[name: \"/device:CPU:0\"\n",
      "device_type: \"CPU\"\n",
      "memory_limit: 268435456\n",
      "locality {\n",
      "}\n",
      "incarnation: 5200203824739490914\n",
      ", name: \"/device:GPU:0\"\n",
      "device_type: \"GPU\"\n",
      "memory_limit: 9214934385\n",
      "locality {\n",
      "  bus_id: 1\n",
      "  links {\n",
      "  }\n",
      "}\n",
      "incarnation: 3122677697455743344\n",
      "physical_device_desc: \"device: 0, name: GeForce GTX 1080 Ti, pci bus id: 0000:65:00.0, compute capability: 6.1\"\n",
      "]\n"
     ]
    }
   ],
   "source": [
    "from tensorflow.python.client import device_lib\n",
    "print(device_lib.list_local_devices())"
   ]
  },
  {
   "cell_type": "code",
   "execution_count": 3,
   "metadata": {},
   "outputs": [
    {
     "data": {
      "text/plain": [
       "['/job:localhost/replica:0/task:0/device:GPU:0']"
      ]
     },
     "execution_count": 3,
     "metadata": {},
     "output_type": "execute_result"
    }
   ],
   "source": [
    "from keras import backend as K\n",
    "K.tensorflow_backend._get_available_gpus()"
   ]
  },
  {
   "cell_type": "code",
   "execution_count": 4,
   "metadata": {},
   "outputs": [],
   "source": [
    "(x_train, y_train), (x_test, y_test) = cifar10.load_data()\n",
    "y_train = keras.utils.to_categorical(y_train, 10)\n",
    "y_test = keras.utils.to_categorical(y_test, 10)\n",
    "x_train = x_train.astype('float32')\n",
    "x_test = x_test.astype('float32')\n",
    "x_train /= 255\n",
    "x_test /= 255"
   ]
  },
  {
   "cell_type": "markdown",
   "metadata": {},
   "source": [
    "Для начала увеличим кол-во эпох обучения."
   ]
  },
  {
   "cell_type": "code",
   "execution_count": 5,
   "metadata": {},
   "outputs": [
    {
     "name": "stdout",
     "output_type": "stream",
     "text": [
      "WARNING:tensorflow:From D:\\Anaconda3\\lib\\site-packages\\keras\\backend\\tensorflow_backend.py:4070: The name tf.nn.max_pool is deprecated. Please use tf.nn.max_pool2d instead.\n",
      "\n",
      "WARNING:tensorflow:From D:\\Anaconda3\\lib\\site-packages\\keras\\backend\\tensorflow_backend.py:422: The name tf.global_variables is deprecated. Please use tf.compat.v1.global_variables instead.\n",
      "\n",
      "Train on 50000 samples, validate on 10000 samples\n",
      "Epoch 1/10\n",
      "50000/50000 [==============================] - 32s 635us/step - loss: 1.8373 - accuracy: 0.3302 - val_loss: 1.5791 - val_accuracy: 0.4318\n",
      "Epoch 2/10\n",
      "50000/50000 [==============================] - 9s 189us/step - loss: 1.5119 - accuracy: 0.4563 - val_loss: 1.4076 - val_accuracy: 0.4999\n",
      "Epoch 3/10\n",
      "50000/50000 [==============================] - 9s 188us/step - loss: 1.3643 - accuracy: 0.5112 - val_loss: 1.2300 - val_accuracy: 0.5661\n",
      "Epoch 4/10\n",
      "50000/50000 [==============================] - 9s 190us/step - loss: 1.2611 - accuracy: 0.5521 - val_loss: 1.2252 - val_accuracy: 0.5776\n",
      "Epoch 5/10\n",
      "50000/50000 [==============================] - 9s 184us/step - loss: 1.1704 - accuracy: 0.5869 - val_loss: 1.0626 - val_accuracy: 0.6304\n",
      "Epoch 6/10\n",
      "50000/50000 [==============================] - 9s 190us/step - loss: 1.1017 - accuracy: 0.6135 - val_loss: 1.0075 - val_accuracy: 0.6441\n",
      "Epoch 7/10\n",
      "50000/50000 [==============================] - 9s 188us/step - loss: 1.0441 - accuracy: 0.6333 - val_loss: 1.0741 - val_accuracy: 0.6254\n",
      "Epoch 8/10\n",
      "50000/50000 [==============================] - 10s 192us/step - loss: 0.9952 - accuracy: 0.6541 - val_loss: 0.9375 - val_accuracy: 0.6683\n",
      "Epoch 9/10\n",
      "50000/50000 [==============================] - 9s 189us/step - loss: 0.9576 - accuracy: 0.6651 - val_loss: 0.8838 - val_accuracy: 0.6924\n",
      "Epoch 10/10\n",
      "50000/50000 [==============================] - 9s 187us/step - loss: 0.9247 - accuracy: 0.6779 - val_loss: 0.9126 - val_accuracy: 0.6832\n",
      "10000/10000 [==============================] - 1s 75us/step\n"
     ]
    },
    {
     "data": {
      "text/plain": [
       "[0.9126296800613404, 0.6832000017166138]"
      ]
     },
     "execution_count": 5,
     "metadata": {},
     "output_type": "execute_result"
    }
   ],
   "source": [
    "model = Sequential()\n",
    "\n",
    "model.add(Conv2D(32, (3, 3), padding='same',\n",
    "                 input_shape=x_train.shape[1:]))\n",
    "model.add(Activation('relu'))\n",
    "model.add(Conv2D(32, (3, 3)))\n",
    "model.add(Activation('relu'))\n",
    "model.add(MaxPooling2D(pool_size=(2, 2)))\n",
    "model.add(Dropout(0.25))\n",
    "\n",
    "model.add(Conv2D(64, (3, 3), padding='same'))\n",
    "model.add(Activation('relu'))\n",
    "model.add(Conv2D(64, (3, 3)))\n",
    "model.add(Activation('relu'))\n",
    "model.add(MaxPooling2D(pool_size=(2, 2)))\n",
    "model.add(Dropout(0.25))\n",
    "\n",
    "model.add(Flatten())\n",
    "model.add(Dense(512))\n",
    "model.add(Activation('relu'))\n",
    "model.add(Dropout(0.5))\n",
    "model.add(Dense(10))\n",
    "model.add(Activation('softmax'))\n",
    "\n",
    "opt = keras.optimizers.RMSprop(lr=0.0001, decay=1e-6)\n",
    "\n",
    "model.compile(loss='categorical_crossentropy',\n",
    "              optimizer=opt,\n",
    "              metrics=['accuracy'])\n",
    "\n",
    "model.fit(x_train, y_train, batch_size=32, epochs=10, validation_data=(x_test, y_test), shuffle=True)\n",
    "model.evaluate(x_test, y_test)"
   ]
  },
  {
   "cell_type": "markdown",
   "metadata": {},
   "source": [
    "Как видно модель обучилось гораздо лучше, но и это не предел и можно добавить еще эпох обучения. Попробуем теперь изменить некоторые параметры."
   ]
  },
  {
   "cell_type": "code",
   "execution_count": 6,
   "metadata": {},
   "outputs": [
    {
     "name": "stdout",
     "output_type": "stream",
     "text": [
      "Train on 50000 samples, validate on 10000 samples\n",
      "Epoch 1/15\n",
      "50000/50000 [==============================] - 15s 293us/step - loss: 1.6650 - accuracy: 0.3914 - val_loss: 1.3389 - val_accuracy: 0.5257\n",
      "Epoch 2/15\n",
      "50000/50000 [==============================] - 14s 281us/step - loss: 1.3157 - accuracy: 0.5302 - val_loss: 1.1844 - val_accuracy: 0.5760\n",
      "Epoch 3/15\n",
      "50000/50000 [==============================] - 14s 284us/step - loss: 1.1346 - accuracy: 0.6010 - val_loss: 1.0201 - val_accuracy: 0.6446\n",
      "Epoch 4/15\n",
      "50000/50000 [==============================] - 14s 283us/step - loss: 1.0096 - accuracy: 0.6456 - val_loss: 0.9350 - val_accuracy: 0.6717\n",
      "Epoch 5/15\n",
      "50000/50000 [==============================] - 14s 280us/step - loss: 0.9209 - accuracy: 0.6789 - val_loss: 0.9358 - val_accuracy: 0.6758\n",
      "Epoch 6/15\n",
      "50000/50000 [==============================] - 14s 278us/step - loss: 0.8559 - accuracy: 0.7050 - val_loss: 0.8374 - val_accuracy: 0.7077\n",
      "Epoch 7/15\n",
      "50000/50000 [==============================] - 14s 277us/step - loss: 0.8030 - accuracy: 0.7244 - val_loss: 0.7662 - val_accuracy: 0.7362\n",
      "Epoch 8/15\n",
      "50000/50000 [==============================] - 14s 280us/step - loss: 0.7532 - accuracy: 0.7416 - val_loss: 0.8248 - val_accuracy: 0.7194\n",
      "Epoch 9/15\n",
      "50000/50000 [==============================] - 14s 277us/step - loss: 0.7233 - accuracy: 0.7532 - val_loss: 0.7058 - val_accuracy: 0.7559\n",
      "Epoch 10/15\n",
      "50000/50000 [==============================] - 14s 277us/step - loss: 0.6936 - accuracy: 0.7648 - val_loss: 0.7262 - val_accuracy: 0.7529\n",
      "Epoch 11/15\n",
      "50000/50000 [==============================] - 14s 282us/step - loss: 0.6694 - accuracy: 0.7736 - val_loss: 0.7140 - val_accuracy: 0.7613\n",
      "Epoch 12/15\n",
      "50000/50000 [==============================] - 14s 272us/step - loss: 0.6437 - accuracy: 0.7812 - val_loss: 0.7254 - val_accuracy: 0.7605\n",
      "Epoch 13/15\n",
      "50000/50000 [==============================] - 14s 279us/step - loss: 0.6280 - accuracy: 0.7882 - val_loss: 0.6687 - val_accuracy: 0.7723\n",
      "Epoch 14/15\n",
      "50000/50000 [==============================] - 14s 278us/step - loss: 0.6208 - accuracy: 0.7914 - val_loss: 0.6865 - val_accuracy: 0.7755\n",
      "Epoch 15/15\n",
      "50000/50000 [==============================] - 14s 277us/step - loss: 0.6058 - accuracy: 0.7959 - val_loss: 0.7382 - val_accuracy: 0.7610\n",
      "10000/10000 [==============================] - 1s 89us/step\n"
     ]
    },
    {
     "data": {
      "text/plain": [
       "[0.7382092701911926, 0.7609999775886536]"
      ]
     },
     "execution_count": 6,
     "metadata": {},
     "output_type": "execute_result"
    }
   ],
   "source": [
    "model = Sequential()\n",
    "\n",
    "model.add(Conv2D(32, (3, 3), padding='same',\n",
    "                 input_shape=x_train.shape[1:]))\n",
    "model.add(Activation('relu'))\n",
    "model.add(Conv2D(64, (3, 3)))\n",
    "model.add(Activation('relu'))\n",
    "model.add(MaxPooling2D(pool_size=(2, 2)))\n",
    "model.add(Dropout(0.25))\n",
    "\n",
    "model.add(Conv2D(128, (3, 3), padding='same'))\n",
    "model.add(Activation('relu'))\n",
    "model.add(Conv2D(256, (3, 3)))\n",
    "model.add(Activation('relu'))\n",
    "model.add(MaxPooling2D(pool_size=(2, 2)))\n",
    "model.add(Dropout(0.25))\n",
    "\n",
    "model.add(Flatten())\n",
    "model.add(Dense(512))\n",
    "model.add(Activation('relu'))\n",
    "model.add(Dropout(0.5))\n",
    "model.add(Dense(10))\n",
    "model.add(Activation('softmax'))\n",
    "\n",
    "opt = keras.optimizers.RMSprop(lr=0.0001, decay=1e-6)\n",
    "\n",
    "model.compile(loss='categorical_crossentropy',\n",
    "              optimizer=opt,\n",
    "              metrics=['accuracy'])\n",
    "\n",
    "model.fit(x_train, y_train, batch_size=32, epochs=15, validation_data=(x_test, y_test), shuffle=True)\n",
    "model.evaluate(x_test, y_test)"
   ]
  },
  {
   "cell_type": "markdown",
   "metadata": {},
   "source": [
    "Попробуем увеличить число слоев для полносвязной части нейросети."
   ]
  },
  {
   "cell_type": "code",
   "execution_count": 7,
   "metadata": {},
   "outputs": [
    {
     "name": "stdout",
     "output_type": "stream",
     "text": [
      "Train on 50000 samples, validate on 10000 samples\n",
      "Epoch 1/15\n",
      "50000/50000 [==============================] - 17s 341us/step - loss: 1.7980 - accuracy: 0.3348 - val_loss: 1.4404 - val_accuracy: 0.4741\n",
      "Epoch 2/15\n",
      "50000/50000 [==============================] - 12s 233us/step - loss: 1.4432 - accuracy: 0.4805 - val_loss: 1.2211 - val_accuracy: 0.5619\n",
      "Epoch 3/15\n",
      "50000/50000 [==============================] - 12s 233us/step - loss: 1.2582 - accuracy: 0.5582 - val_loss: 1.1811 - val_accuracy: 0.5911\n",
      "Epoch 4/15\n",
      "50000/50000 [==============================] - 12s 232us/step - loss: 1.1185 - accuracy: 0.6071 - val_loss: 1.0906 - val_accuracy: 0.6201\n",
      "Epoch 5/15\n",
      "50000/50000 [==============================] - 12s 232us/step - loss: 1.0056 - accuracy: 0.6520 - val_loss: 0.8976 - val_accuracy: 0.6855\n",
      "Epoch 6/15\n",
      "50000/50000 [==============================] - 12s 236us/step - loss: 0.9190 - accuracy: 0.6802 - val_loss: 0.8953 - val_accuracy: 0.6942\n",
      "Epoch 7/15\n",
      "50000/50000 [==============================] - 12s 241us/step - loss: 0.8518 - accuracy: 0.7066 - val_loss: 0.8002 - val_accuracy: 0.7211\n",
      "Epoch 8/15\n",
      "50000/50000 [==============================] - 12s 237us/step - loss: 0.7838 - accuracy: 0.7323 - val_loss: 0.8209 - val_accuracy: 0.7250\n",
      "Epoch 9/15\n",
      "50000/50000 [==============================] - 12s 246us/step - loss: 0.7365 - accuracy: 0.7493 - val_loss: 0.7980 - val_accuracy: 0.7313\n",
      "Epoch 10/15\n",
      "50000/50000 [==============================] - 12s 247us/step - loss: 0.6973 - accuracy: 0.7647 - val_loss: 0.6881 - val_accuracy: 0.7686\n",
      "Epoch 11/15\n",
      "50000/50000 [==============================] - 12s 236us/step - loss: 0.6608 - accuracy: 0.7777 - val_loss: 0.7262 - val_accuracy: 0.7579\n",
      "Epoch 12/15\n",
      "50000/50000 [==============================] - 12s 233us/step - loss: 0.6357 - accuracy: 0.7859 - val_loss: 0.7303 - val_accuracy: 0.7639\n",
      "Epoch 13/15\n",
      "50000/50000 [==============================] - 12s 232us/step - loss: 0.6201 - accuracy: 0.7935 - val_loss: 0.6895 - val_accuracy: 0.7797\n",
      "Epoch 14/15\n",
      "50000/50000 [==============================] - 12s 232us/step - loss: 0.6022 - accuracy: 0.8018 - val_loss: 0.7143 - val_accuracy: 0.7736\n",
      "Epoch 15/15\n",
      "50000/50000 [==============================] - 12s 237us/step - loss: 0.5846 - accuracy: 0.8056 - val_loss: 0.6680 - val_accuracy: 0.7816\n",
      "10000/10000 [==============================] - 1s 84us/step\n"
     ]
    },
    {
     "data": {
      "text/plain": [
       "[0.6680436024665832, 0.7815999984741211]"
      ]
     },
     "execution_count": 7,
     "metadata": {},
     "output_type": "execute_result"
    }
   ],
   "source": [
    "model = Sequential()\n",
    "\n",
    "model.add(Conv2D(32, (3, 3), padding='same',\n",
    "                 input_shape=x_train.shape[1:]))\n",
    "model.add(Activation('relu'))\n",
    "model.add(Conv2D(64, (3, 3)))\n",
    "model.add(Activation('relu'))\n",
    "model.add(MaxPooling2D(pool_size=(2, 2)))\n",
    "model.add(Dropout(0.25))\n",
    "\n",
    "model.add(Conv2D(128, (3, 3), padding='same'))\n",
    "model.add(Activation('relu'))\n",
    "model.add(Conv2D(256, (3, 3)))\n",
    "model.add(Activation('relu'))\n",
    "model.add(MaxPooling2D(pool_size=(2, 2)))\n",
    "model.add(Dropout(0.25))\n",
    "\n",
    "model.add(Flatten())\n",
    "model.add(Dense(256))\n",
    "model.add(Activation('relu'))\n",
    "model.add(Dropout(0.3))\n",
    "model.add(Dense(256))\n",
    "model.add(Activation('relu'))\n",
    "model.add(Dropout(0.5))\n",
    "model.add(Dense(10))\n",
    "model.add(Activation('softmax'))\n",
    "\n",
    "opt = keras.optimizers.RMSprop(lr=0.0001, decay=1e-6)\n",
    "\n",
    "model.compile(loss='categorical_crossentropy',\n",
    "              optimizer=opt,\n",
    "              metrics=['accuracy'])\n",
    "\n",
    "model.fit(x_train, y_train, batch_size=32, epochs=15, validation_data=(x_test, y_test), shuffle=True)\n",
    "model.evaluate(x_test, y_test)"
   ]
  },
  {
   "cell_type": "markdown",
   "metadata": {},
   "source": [
    "Теперь увеличим кол-во нейронов в этих слоях."
   ]
  },
  {
   "cell_type": "code",
   "execution_count": 8,
   "metadata": {},
   "outputs": [
    {
     "name": "stdout",
     "output_type": "stream",
     "text": [
      "Train on 50000 samples, validate on 10000 samples\n",
      "Epoch 1/15\n",
      "50000/50000 [==============================] - 13s 266us/step - loss: 1.7574 - accuracy: 0.3515 - val_loss: 1.3705 - val_accuracy: 0.5015\n",
      "Epoch 2/15\n",
      "50000/50000 [==============================] - 13s 256us/step - loss: 1.3518 - accuracy: 0.5147 - val_loss: 1.2251 - val_accuracy: 0.5543\n",
      "Epoch 3/15\n",
      "50000/50000 [==============================] - 13s 257us/step - loss: 1.1495 - accuracy: 0.5913 - val_loss: 1.0329 - val_accuracy: 0.6320\n",
      "Epoch 4/15\n",
      "50000/50000 [==============================] - 13s 263us/step - loss: 1.0112 - accuracy: 0.6457 - val_loss: 0.8976 - val_accuracy: 0.6836\n",
      "Epoch 5/15\n",
      "50000/50000 [==============================] - 14s 279us/step - loss: 0.9032 - accuracy: 0.6852 - val_loss: 0.8605 - val_accuracy: 0.7031\n",
      "Epoch 6/15\n",
      "50000/50000 [==============================] - 14s 281us/step - loss: 0.8182 - accuracy: 0.7160 - val_loss: 0.8734 - val_accuracy: 0.7036\n",
      "Epoch 7/15\n",
      "50000/50000 [==============================] - 14s 281us/step - loss: 0.7490 - accuracy: 0.7401 - val_loss: 0.7372 - val_accuracy: 0.7518\n",
      "Epoch 8/15\n",
      "50000/50000 [==============================] - 14s 280us/step - loss: 0.6865 - accuracy: 0.7658 - val_loss: 0.7116 - val_accuracy: 0.7570\n",
      "Epoch 9/15\n",
      "50000/50000 [==============================] - 14s 280us/step - loss: 0.6444 - accuracy: 0.7800 - val_loss: 0.7144 - val_accuracy: 0.7586\n",
      "Epoch 10/15\n",
      "50000/50000 [==============================] - 14s 282us/step - loss: 0.6088 - accuracy: 0.7919 - val_loss: 0.7497 - val_accuracy: 0.7614\n",
      "Epoch 11/15\n",
      "50000/50000 [==============================] - 14s 281us/step - loss: 0.5792 - accuracy: 0.8049 - val_loss: 0.6553 - val_accuracy: 0.7790\n",
      "Epoch 12/15\n",
      "50000/50000 [==============================] - 14s 283us/step - loss: 0.5619 - accuracy: 0.8114 - val_loss: 0.7311 - val_accuracy: 0.7569\n",
      "Epoch 13/15\n",
      "50000/50000 [==============================] - 14s 282us/step - loss: 0.5460 - accuracy: 0.8174 - val_loss: 0.6808 - val_accuracy: 0.7844\n",
      "Epoch 14/15\n",
      "50000/50000 [==============================] - 14s 280us/step - loss: 0.5342 - accuracy: 0.8232 - val_loss: 0.6762 - val_accuracy: 0.7916\n",
      "Epoch 15/15\n",
      "50000/50000 [==============================] - 14s 280us/step - loss: 0.5171 - accuracy: 0.8288 - val_loss: 0.6215 - val_accuracy: 0.7940\n",
      "10000/10000 [==============================] - 1s 91us/step\n"
     ]
    },
    {
     "data": {
      "text/plain": [
       "[0.621509613275528, 0.7940000295639038]"
      ]
     },
     "execution_count": 8,
     "metadata": {},
     "output_type": "execute_result"
    }
   ],
   "source": [
    "model = Sequential()\n",
    "\n",
    "model.add(Conv2D(32, (3, 3), padding='same',\n",
    "                 input_shape=x_train.shape[1:]))\n",
    "model.add(Activation('relu'))\n",
    "model.add(Conv2D(64, (3, 3)))\n",
    "model.add(Activation('relu'))\n",
    "model.add(MaxPooling2D(pool_size=(2, 2)))\n",
    "model.add(Dropout(0.25))\n",
    "\n",
    "model.add(Conv2D(128, (3, 3), padding='same'))\n",
    "model.add(Activation('relu'))\n",
    "model.add(Conv2D(256, (3, 3)))\n",
    "model.add(Activation('relu'))\n",
    "model.add(MaxPooling2D(pool_size=(2, 2)))\n",
    "model.add(Dropout(0.25))\n",
    "\n",
    "model.add(Flatten())\n",
    "model.add(Dense(512))\n",
    "model.add(Activation('relu'))\n",
    "model.add(Dropout(0.3))\n",
    "model.add(Dense(512))\n",
    "model.add(Activation('relu'))\n",
    "model.add(Dropout(0.5))\n",
    "model.add(Dense(10))\n",
    "model.add(Activation('softmax'))\n",
    "\n",
    "opt = keras.optimizers.RMSprop(lr=0.0001, decay=1e-6)\n",
    "\n",
    "model.compile(loss='categorical_crossentropy',\n",
    "              optimizer=opt,\n",
    "              metrics=['accuracy'])\n",
    "\n",
    "model.fit(x_train, y_train, batch_size=32, epochs=15, validation_data=(x_test, y_test), shuffle=True)\n",
    "model.evaluate(x_test, y_test)"
   ]
  },
  {
   "cell_type": "markdown",
   "metadata": {},
   "source": [
    "Попробуем добавить еще один пулинг-слой"
   ]
  },
  {
   "cell_type": "code",
   "execution_count": 9,
   "metadata": {},
   "outputs": [
    {
     "name": "stdout",
     "output_type": "stream",
     "text": [
      "Train on 50000 samples, validate on 10000 samples\n",
      "Epoch 1/15\n",
      "50000/50000 [==============================] - 13s 252us/step - loss: 1.9363 - accuracy: 0.2692 - val_loss: 1.6206 - val_accuracy: 0.4089\n",
      "Epoch 2/15\n",
      "50000/50000 [==============================] - 11s 226us/step - loss: 1.5587 - accuracy: 0.4247 - val_loss: 1.4161 - val_accuracy: 0.4838\n",
      "Epoch 3/15\n",
      "50000/50000 [==============================] - 11s 225us/step - loss: 1.3750 - accuracy: 0.5017 - val_loss: 1.2250 - val_accuracy: 0.5554\n",
      "Epoch 4/15\n",
      "50000/50000 [==============================] - 11s 225us/step - loss: 1.2374 - accuracy: 0.5586 - val_loss: 1.1666 - val_accuracy: 0.5833\n",
      "Epoch 5/15\n",
      "50000/50000 [==============================] - 11s 226us/step - loss: 1.1348 - accuracy: 0.5954 - val_loss: 1.0507 - val_accuracy: 0.6317\n",
      "Epoch 6/15\n",
      "50000/50000 [==============================] - 11s 230us/step - loss: 1.0433 - accuracy: 0.6320 - val_loss: 1.0305 - val_accuracy: 0.6400\n",
      "Epoch 7/15\n",
      "50000/50000 [==============================] - 11s 228us/step - loss: 0.9792 - accuracy: 0.6600 - val_loss: 0.9347 - val_accuracy: 0.6726\n",
      "Epoch 8/15\n",
      "50000/50000 [==============================] - 11s 225us/step - loss: 0.9152 - accuracy: 0.6819 - val_loss: 0.8431 - val_accuracy: 0.7087\n",
      "Epoch 9/15\n",
      "50000/50000 [==============================] - 11s 227us/step - loss: 0.8598 - accuracy: 0.7014 - val_loss: 0.8602 - val_accuracy: 0.7067\n",
      "Epoch 10/15\n",
      "50000/50000 [==============================] - 11s 226us/step - loss: 0.8091 - accuracy: 0.7219 - val_loss: 0.8007 - val_accuracy: 0.7224\n",
      "Epoch 11/15\n",
      "50000/50000 [==============================] - 11s 225us/step - loss: 0.7738 - accuracy: 0.7330 - val_loss: 0.8509 - val_accuracy: 0.7105\n",
      "Epoch 12/15\n",
      "50000/50000 [==============================] - 11s 223us/step - loss: 0.7384 - accuracy: 0.7444 - val_loss: 0.8381 - val_accuracy: 0.7216\n",
      "Epoch 13/15\n",
      "50000/50000 [==============================] - 11s 224us/step - loss: 0.7105 - accuracy: 0.7568 - val_loss: 0.7479 - val_accuracy: 0.7502\n",
      "Epoch 14/15\n",
      "50000/50000 [==============================] - 11s 224us/step - loss: 0.6760 - accuracy: 0.7680 - val_loss: 0.7290 - val_accuracy: 0.7547\n",
      "Epoch 15/15\n",
      "50000/50000 [==============================] - 11s 224us/step - loss: 0.6557 - accuracy: 0.7761 - val_loss: 0.7442 - val_accuracy: 0.7460\n",
      "10000/10000 [==============================] - 1s 85us/step\n"
     ]
    },
    {
     "data": {
      "text/plain": [
       "[0.7441542099952698, 0.7459999918937683]"
      ]
     },
     "execution_count": 9,
     "metadata": {},
     "output_type": "execute_result"
    }
   ],
   "source": [
    "model = Sequential()\n",
    "\n",
    "model.add(Conv2D(32, (3, 3), padding='same',\n",
    "                 input_shape=x_train.shape[1:]))\n",
    "model.add(Activation('relu'))\n",
    "model.add(Conv2D(64, (3, 3)))\n",
    "model.add(Activation('relu'))\n",
    "model.add(MaxPooling2D(pool_size=(2, 2)))\n",
    "model.add(Dropout(0.25))\n",
    "\n",
    "model.add(Conv2D(128, (3, 3), padding='same'))\n",
    "model.add(Activation('relu'))\n",
    "model.add(MaxPooling2D(pool_size=(2, 2)))\n",
    "model.add(Conv2D(256, (3, 3)))\n",
    "model.add(Activation('relu'))\n",
    "model.add(MaxPooling2D(pool_size=(2, 2)))\n",
    "model.add(Dropout(0.25))\n",
    "\n",
    "model.add(Flatten())\n",
    "model.add(Dense(512))\n",
    "model.add(Activation('relu'))\n",
    "model.add(Dropout(0.3))\n",
    "model.add(Dense(512))\n",
    "model.add(Activation('relu'))\n",
    "model.add(Dropout(0.5))\n",
    "model.add(Dense(10))\n",
    "model.add(Activation('softmax'))\n",
    "\n",
    "opt = keras.optimizers.RMSprop(lr=0.0001, decay=1e-6)\n",
    "\n",
    "model.compile(loss='categorical_crossentropy',\n",
    "              optimizer=opt,\n",
    "              metrics=['accuracy'])\n",
    "\n",
    "model.fit(x_train, y_train, batch_size=32, epochs=15, validation_data=(x_test, y_test), shuffle=True)\n",
    "model.evaluate(x_test, y_test)"
   ]
  },
  {
   "cell_type": "markdown",
   "metadata": {},
   "source": [
    "Как видно точность модели уменьшилась. Теперь попробуем вместо добавления удалить один пулинговый слой."
   ]
  },
  {
   "cell_type": "code",
   "execution_count": 10,
   "metadata": {},
   "outputs": [
    {
     "name": "stdout",
     "output_type": "stream",
     "text": [
      "Train on 50000 samples, validate on 10000 samples\n",
      "Epoch 1/15\n",
      "50000/50000 [==============================] - 15s 291us/step - loss: 1.7746 - accuracy: 0.3452 - val_loss: 1.4611 - val_accuracy: 0.4710\n",
      "Epoch 2/15\n",
      "50000/50000 [==============================] - 14s 283us/step - loss: 1.3651 - accuracy: 0.5074 - val_loss: 1.2110 - val_accuracy: 0.5705\n",
      "Epoch 3/15\n",
      "50000/50000 [==============================] - 14s 284us/step - loss: 1.1612 - accuracy: 0.5896 - val_loss: 1.0611 - val_accuracy: 0.6232\n",
      "Epoch 4/15\n",
      "50000/50000 [==============================] - 14s 283us/step - loss: 1.0146 - accuracy: 0.6459 - val_loss: 0.9186 - val_accuracy: 0.6818\n",
      "Epoch 5/15\n",
      "50000/50000 [==============================] - 14s 283us/step - loss: 0.9058 - accuracy: 0.6858 - val_loss: 0.8706 - val_accuracy: 0.6917\n",
      "Epoch 6/15\n",
      "50000/50000 [==============================] - 14s 284us/step - loss: 0.8214 - accuracy: 0.7143 - val_loss: 0.7911 - val_accuracy: 0.7275\n",
      "Epoch 7/15\n",
      "50000/50000 [==============================] - 14s 282us/step - loss: 0.7486 - accuracy: 0.7439 - val_loss: 0.7626 - val_accuracy: 0.7402\n",
      "Epoch 8/15\n",
      "50000/50000 [==============================] - 14s 282us/step - loss: 0.6943 - accuracy: 0.7607 - val_loss: 0.7250 - val_accuracy: 0.7552\n",
      "Epoch 9/15\n",
      "50000/50000 [==============================] - 14s 281us/step - loss: 0.6493 - accuracy: 0.7773 - val_loss: 0.7074 - val_accuracy: 0.7588\n",
      "Epoch 10/15\n",
      "50000/50000 [==============================] - 14s 283us/step - loss: 0.6149 - accuracy: 0.7897 - val_loss: 0.7586 - val_accuracy: 0.7431\n",
      "Epoch 11/15\n",
      "50000/50000 [==============================] - 14s 284us/step - loss: 0.5867 - accuracy: 0.8023 - val_loss: 0.7114 - val_accuracy: 0.7664\n",
      "Epoch 12/15\n",
      "50000/50000 [==============================] - 14s 284us/step - loss: 0.5704 - accuracy: 0.8073 - val_loss: 0.6461 - val_accuracy: 0.7904\n",
      "Epoch 13/15\n",
      "50000/50000 [==============================] - 14s 284us/step - loss: 0.5532 - accuracy: 0.8162 - val_loss: 0.8709 - val_accuracy: 0.7408\n",
      "Epoch 14/15\n",
      "50000/50000 [==============================] - 14s 284us/step - loss: 0.5391 - accuracy: 0.8218 - val_loss: 0.7489 - val_accuracy: 0.7660\n",
      "Epoch 15/15\n",
      "50000/50000 [==============================] - 14s 284us/step - loss: 0.5317 - accuracy: 0.8234 - val_loss: 0.6628 - val_accuracy: 0.7856\n",
      "10000/10000 [==============================] - 1s 91us/step\n"
     ]
    },
    {
     "data": {
      "text/plain": [
       "[0.6627546172618866, 0.7856000065803528]"
      ]
     },
     "execution_count": 10,
     "metadata": {},
     "output_type": "execute_result"
    }
   ],
   "source": [
    "model = Sequential()\n",
    "\n",
    "model.add(Conv2D(32, (3, 3), padding='same',\n",
    "                 input_shape=x_train.shape[1:]))\n",
    "model.add(Activation('relu'))\n",
    "model.add(Conv2D(64, (3, 3)))\n",
    "model.add(Activation('relu'))\n",
    "model.add(MaxPooling2D(pool_size=(2, 2)))\n",
    "model.add(Dropout(0.25))\n",
    "\n",
    "model.add(Conv2D(128, (3, 3), padding='same'))\n",
    "model.add(Activation('relu'))\n",
    "model.add(Conv2D(256, (3, 3)))\n",
    "model.add(Activation('relu'))\n",
    "model.add(MaxPooling2D(pool_size=(2, 2)))\n",
    "model.add(Dropout(0.25))\n",
    "\n",
    "model.add(Flatten())\n",
    "model.add(Dense(512))\n",
    "model.add(Activation('relu'))\n",
    "model.add(Dropout(0.3))\n",
    "model.add(Dense(512))\n",
    "model.add(Activation('relu'))\n",
    "model.add(Dropout(0.5))\n",
    "model.add(Dense(10))\n",
    "model.add(Activation('softmax'))\n",
    "\n",
    "opt = keras.optimizers.RMSprop(lr=0.0001, decay=1e-6)\n",
    "\n",
    "model.compile(loss='categorical_crossentropy',\n",
    "              optimizer=opt,\n",
    "              metrics=['accuracy'])\n",
    "\n",
    "model.fit(x_train, y_train, batch_size=32, epochs=15, validation_data=(x_test, y_test), shuffle=True)\n",
    "model.evaluate(x_test, y_test)"
   ]
  },
  {
   "cell_type": "markdown",
   "metadata": {},
   "source": [
    "В этом случае модель получилась слегка переобученной."
   ]
  },
  {
   "cell_type": "code",
   "execution_count": 11,
   "metadata": {},
   "outputs": [
    {
     "name": "stdout",
     "output_type": "stream",
     "text": [
      "Train on 50000 samples, validate on 10000 samples\n",
      "Epoch 1/12\n",
      "50000/50000 [==============================] - 15s 294us/step - loss: 1.7401 - accuracy: 0.3570 - val_loss: 1.3837 - val_accuracy: 0.5013\n",
      "Epoch 2/12\n",
      "50000/50000 [==============================] - 14s 285us/step - loss: 1.3491 - accuracy: 0.5144 - val_loss: 1.2122 - val_accuracy: 0.5638\n",
      "Epoch 3/12\n",
      "50000/50000 [==============================] - 14s 285us/step - loss: 1.1491 - accuracy: 0.5950 - val_loss: 1.0390 - val_accuracy: 0.6343\n",
      "Epoch 4/12\n",
      "50000/50000 [==============================] - 14s 287us/step - loss: 1.0067 - accuracy: 0.6475 - val_loss: 0.9284 - val_accuracy: 0.6756\n",
      "Epoch 5/12\n",
      "50000/50000 [==============================] - 15s 292us/step - loss: 0.8960 - accuracy: 0.6879 - val_loss: 0.8359 - val_accuracy: 0.7087\n",
      "Epoch 6/12\n",
      "50000/50000 [==============================] - 14s 289us/step - loss: 0.8101 - accuracy: 0.7196 - val_loss: 0.7776 - val_accuracy: 0.7308\n",
      "Epoch 7/12\n",
      "50000/50000 [==============================] - 14s 288us/step - loss: 0.7396 - accuracy: 0.7460 - val_loss: 0.7735 - val_accuracy: 0.7328\n",
      "Epoch 8/12\n",
      "50000/50000 [==============================] - 14s 288us/step - loss: 0.6820 - accuracy: 0.7673 - val_loss: 0.7040 - val_accuracy: 0.7618\n",
      "Epoch 9/12\n",
      "50000/50000 [==============================] - 14s 286us/step - loss: 0.6379 - accuracy: 0.7848 - val_loss: 0.7327 - val_accuracy: 0.7561\n",
      "Epoch 10/12\n",
      "50000/50000 [==============================] - 14s 285us/step - loss: 0.6072 - accuracy: 0.7948 - val_loss: 0.6967 - val_accuracy: 0.7705\n",
      "Epoch 11/12\n",
      "50000/50000 [==============================] - 14s 286us/step - loss: 0.5816 - accuracy: 0.8059 - val_loss: 0.7338 - val_accuracy: 0.7593\n",
      "Epoch 12/12\n",
      "50000/50000 [==============================] - 14s 284us/step - loss: 0.5647 - accuracy: 0.8112 - val_loss: 0.6366 - val_accuracy: 0.7879\n",
      "10000/10000 [==============================] - 1s 92us/step\n"
     ]
    },
    {
     "data": {
      "text/plain": [
       "[0.6366441417694092, 0.7878999710083008]"
      ]
     },
     "execution_count": 11,
     "metadata": {},
     "output_type": "execute_result"
    }
   ],
   "source": [
    "model = Sequential()\n",
    "\n",
    "model.add(Conv2D(32, (3, 3), padding='same',\n",
    "                 input_shape=x_train.shape[1:]))\n",
    "model.add(Activation('relu'))\n",
    "model.add(Conv2D(64, (3, 3)))\n",
    "model.add(Activation('relu'))\n",
    "model.add(MaxPooling2D(pool_size=(2, 2)))\n",
    "model.add(Dropout(0.25))\n",
    "\n",
    "model.add(Conv2D(128, (3, 3), padding='same'))\n",
    "model.add(Activation('relu'))\n",
    "model.add(Conv2D(256, (3, 3)))\n",
    "model.add(Activation('relu'))\n",
    "model.add(MaxPooling2D(pool_size=(2, 2)))\n",
    "model.add(Dropout(0.25))\n",
    "\n",
    "model.add(Flatten())\n",
    "model.add(Dense(512))\n",
    "model.add(Activation('relu'))\n",
    "model.add(Dropout(0.3))\n",
    "model.add(Dense(512))\n",
    "model.add(Activation('relu'))\n",
    "model.add(Dropout(0.5))\n",
    "model.add(Dense(10))\n",
    "model.add(Activation('softmax'))\n",
    "\n",
    "opt = keras.optimizers.RMSprop(lr=0.0001, decay=1e-6)\n",
    "\n",
    "model.compile(loss='categorical_crossentropy',\n",
    "              optimizer=opt,\n",
    "              metrics=['accuracy'])\n",
    "\n",
    "model.fit(x_train, y_train, batch_size=32, epochs=12, validation_data=(x_test, y_test), shuffle=True)\n",
    "model.evaluate(x_test, y_test)"
   ]
  },
  {
   "cell_type": "markdown",
   "metadata": {},
   "source": [
    "Попробуем еще увеличить кол-во слоев."
   ]
  },
  {
   "cell_type": "code",
   "execution_count": 12,
   "metadata": {},
   "outputs": [
    {
     "name": "stdout",
     "output_type": "stream",
     "text": [
      "Train on 50000 samples, validate on 10000 samples\n",
      "Epoch 1/15\n",
      "50000/50000 [==============================] - 21s 429us/step - loss: 1.7860 - accuracy: 0.3376 - val_loss: 1.5397 - val_accuracy: 0.4472\n",
      "Epoch 2/15\n",
      "50000/50000 [==============================] - 21s 419us/step - loss: 1.3751 - accuracy: 0.5077 - val_loss: 1.2464 - val_accuracy: 0.5555\n",
      "Epoch 3/15\n",
      "50000/50000 [==============================] - 21s 420us/step - loss: 1.1732 - accuracy: 0.5845 - val_loss: 1.1800 - val_accuracy: 0.5948\n",
      "Epoch 4/15\n",
      "50000/50000 [==============================] - 21s 419us/step - loss: 1.0148 - accuracy: 0.6441 - val_loss: 0.9025 - val_accuracy: 0.6778\n",
      "Epoch 5/15\n",
      "50000/50000 [==============================] - 21s 421us/step - loss: 0.8906 - accuracy: 0.6911 - val_loss: 0.8778 - val_accuracy: 0.6964\n",
      "Epoch 6/15\n",
      "50000/50000 [==============================] - 21s 418us/step - loss: 0.7971 - accuracy: 0.7256 - val_loss: 0.8148 - val_accuracy: 0.7252\n",
      "Epoch 7/15\n",
      "50000/50000 [==============================] - 21s 420us/step - loss: 0.7231 - accuracy: 0.7528 - val_loss: 0.7792 - val_accuracy: 0.7409\n",
      "Epoch 8/15\n",
      "50000/50000 [==============================] - 21s 419us/step - loss: 0.6699 - accuracy: 0.7730 - val_loss: 0.7290 - val_accuracy: 0.7580\n",
      "Epoch 9/15\n",
      "50000/50000 [==============================] - 21s 419us/step - loss: 0.6280 - accuracy: 0.7886 - val_loss: 0.7673 - val_accuracy: 0.7626\n",
      "Epoch 10/15\n",
      "50000/50000 [==============================] - 21s 418us/step - loss: 0.5970 - accuracy: 0.8013 - val_loss: 0.7248 - val_accuracy: 0.7785\n",
      "Epoch 11/15\n",
      "50000/50000 [==============================] - 21s 420us/step - loss: 0.5755 - accuracy: 0.8099 - val_loss: 0.6943 - val_accuracy: 0.7837\n",
      "Epoch 12/15\n",
      "50000/50000 [==============================] - 21s 419us/step - loss: 0.5635 - accuracy: 0.8156 - val_loss: 0.8024 - val_accuracy: 0.7678\n",
      "Epoch 13/15\n",
      "50000/50000 [==============================] - 21s 419us/step - loss: 0.5474 - accuracy: 0.8213 - val_loss: 0.8839 - val_accuracy: 0.7557\n",
      "Epoch 14/15\n",
      "50000/50000 [==============================] - 21s 419us/step - loss: 0.5350 - accuracy: 0.8271 - val_loss: 0.8090 - val_accuracy: 0.7649\n",
      "Epoch 15/15\n",
      "50000/50000 [==============================] - 21s 421us/step - loss: 0.5327 - accuracy: 0.8277 - val_loss: 0.6284 - val_accuracy: 0.8012\n",
      "10000/10000 [==============================] - 1s 123us/step\n"
     ]
    },
    {
     "data": {
      "text/plain": [
       "[0.6284491127490998, 0.8011999726295471]"
      ]
     },
     "execution_count": 12,
     "metadata": {},
     "output_type": "execute_result"
    }
   ],
   "source": [
    "model = Sequential()\n",
    "\n",
    "model.add(Conv2D(32, (3, 3), padding='same',\n",
    "                 input_shape=x_train.shape[1:]))\n",
    "model.add(Activation('relu'))\n",
    "model.add(Conv2D(64, (3, 3)))\n",
    "model.add(Activation('relu'))\n",
    "model.add(MaxPooling2D(pool_size=(2, 2)))\n",
    "model.add(Dropout(0.25))\n",
    "\n",
    "model.add(Conv2D(128, (3, 3), padding='same'))\n",
    "model.add(Activation('relu'))\n",
    "model.add(Conv2D(256, (3, 3)))\n",
    "model.add(Activation('relu'))\n",
    "model.add(Conv2D(512, (3, 3)))\n",
    "model.add(Activation('relu'))\n",
    "model.add(MaxPooling2D(pool_size=(2, 2)))\n",
    "model.add(Dropout(0.25))\n",
    "\n",
    "model.add(Flatten())\n",
    "model.add(Dense(512))\n",
    "model.add(Activation('relu'))\n",
    "model.add(Dropout(0.3))\n",
    "model.add(Dense(512))\n",
    "model.add(Activation('relu'))\n",
    "model.add(Dropout(0.5))\n",
    "model.add(Dense(10))\n",
    "model.add(Activation('softmax'))\n",
    "\n",
    "opt = keras.optimizers.RMSprop(lr=0.0001, decay=1e-6)\n",
    "\n",
    "model.compile(loss='categorical_crossentropy',\n",
    "              optimizer=opt,\n",
    "              metrics=['accuracy'])\n",
    "\n",
    "model.fit(x_train, y_train, batch_size=32, epochs=15, validation_data=(x_test, y_test), shuffle=True)\n",
    "model.evaluate(x_test, y_test)"
   ]
  },
  {
   "cell_type": "code",
   "execution_count": 14,
   "metadata": {},
   "outputs": [
    {
     "name": "stdout",
     "output_type": "stream",
     "text": [
      "Train on 50000 samples, validate on 10000 samples\n",
      "Epoch 1/13\n",
      "50000/50000 [==============================] - 20s 406us/step - loss: 1.7745 - accuracy: 0.3410 - val_loss: 1.4884 - val_accuracy: 0.4456\n",
      "Epoch 2/13\n",
      "50000/50000 [==============================] - 20s 396us/step - loss: 1.3698 - accuracy: 0.5063 - val_loss: 1.3090 - val_accuracy: 0.5318\n",
      "Epoch 3/13\n",
      "50000/50000 [==============================] - 20s 399us/step - loss: 1.1471 - accuracy: 0.5964 - val_loss: 1.0156 - val_accuracy: 0.6377\n",
      "Epoch 4/13\n",
      "50000/50000 [==============================] - 20s 397us/step - loss: 0.9992 - accuracy: 0.6527 - val_loss: 0.8681 - val_accuracy: 0.6942\n",
      "Epoch 5/13\n",
      "50000/50000 [==============================] - 20s 396us/step - loss: 0.8872 - accuracy: 0.6938 - val_loss: 0.8535 - val_accuracy: 0.7069\n",
      "Epoch 6/13\n",
      "50000/50000 [==============================] - 20s 399us/step - loss: 0.8009 - accuracy: 0.7220 - val_loss: 0.8268 - val_accuracy: 0.7181\n",
      "Epoch 7/13\n",
      "50000/50000 [==============================] - 20s 404us/step - loss: 0.7324 - accuracy: 0.7497 - val_loss: 0.9106 - val_accuracy: 0.6988\n",
      "Epoch 8/13\n",
      "50000/50000 [==============================] - 20s 395us/step - loss: 0.6842 - accuracy: 0.7668 - val_loss: 0.6899 - val_accuracy: 0.7700\n",
      "Epoch 9/13\n",
      "50000/50000 [==============================] - 20s 399us/step - loss: 0.6414 - accuracy: 0.7847 - val_loss: 0.7484 - val_accuracy: 0.7577\n",
      "Epoch 10/13\n",
      "50000/50000 [==============================] - 20s 404us/step - loss: 0.6124 - accuracy: 0.7954 - val_loss: 0.6639 - val_accuracy: 0.7841\n",
      "Epoch 11/13\n",
      "50000/50000 [==============================] - 20s 395us/step - loss: 0.6010 - accuracy: 0.8018 - val_loss: 0.7437 - val_accuracy: 0.7669\n",
      "Epoch 12/13\n",
      "50000/50000 [==============================] - 20s 392us/step - loss: 0.5848 - accuracy: 0.8077 - val_loss: 0.6188 - val_accuracy: 0.7938\n",
      "Epoch 13/13\n",
      "50000/50000 [==============================] - 20s 392us/step - loss: 0.5775 - accuracy: 0.8111 - val_loss: 0.6137 - val_accuracy: 0.8012\n",
      "10000/10000 [==============================] - 1s 112us/step\n"
     ]
    },
    {
     "data": {
      "text/plain": [
       "[0.6137476316928864, 0.8011999726295471]"
      ]
     },
     "execution_count": 14,
     "metadata": {},
     "output_type": "execute_result"
    }
   ],
   "source": [
    "model = Sequential()\n",
    "\n",
    "model.add(Conv2D(32, (3, 3), padding='same',\n",
    "                 input_shape=x_train.shape[1:]))\n",
    "model.add(Activation('relu'))\n",
    "model.add(Conv2D(64, (3, 3)))\n",
    "model.add(Activation('relu'))\n",
    "model.add(MaxPooling2D(pool_size=(2, 2)))\n",
    "model.add(Dropout(0.25))\n",
    "\n",
    "model.add(Conv2D(128, (3, 3), padding='same'))\n",
    "model.add(Activation('relu'))\n",
    "model.add(Conv2D(256, (3, 3)))\n",
    "model.add(Activation('relu'))\n",
    "model.add(Dropout(0.2))\n",
    "model.add(Conv2D(512, (3, 3)))\n",
    "model.add(Activation('relu'))\n",
    "model.add(MaxPooling2D(pool_size=(2, 2)))\n",
    "model.add(Dropout(0.25))\n",
    "\n",
    "model.add(Flatten())\n",
    "model.add(Dense(512))\n",
    "model.add(Activation('relu'))\n",
    "model.add(Dropout(0.3))\n",
    "model.add(Dense(512))\n",
    "model.add(Activation('relu'))\n",
    "model.add(Dropout(0.5))\n",
    "model.add(Dense(10))\n",
    "model.add(Activation('softmax'))\n",
    "\n",
    "opt = keras.optimizers.RMSprop(lr=0.0001, decay=1e-6)\n",
    "\n",
    "model.compile(loss='categorical_crossentropy',\n",
    "              optimizer=opt,\n",
    "              metrics=['accuracy'])\n",
    "\n",
    "model.fit(x_train, y_train, batch_size=32, epochs=13, validation_data=(x_test, y_test), shuffle=True)\n",
    "model.evaluate(x_test, y_test)"
   ]
  },
  {
   "cell_type": "markdown",
   "metadata": {},
   "source": [
    "Теперь попробуем обучить модель на сгенерированных данных."
   ]
  },
  {
   "cell_type": "code",
   "execution_count": 16,
   "metadata": {},
   "outputs": [
    {
     "name": "stdout",
     "output_type": "stream",
     "text": [
      "Epoch 1/15\n",
      "1563/1563 [==============================] - 21s 13ms/step - loss: 1.8255 - accuracy: 0.3207 - val_loss: 1.4787 - val_accuracy: 0.4649\n",
      "Epoch 2/15\n",
      "1563/1563 [==============================] - 20s 13ms/step - loss: 1.4678 - accuracy: 0.4664 - val_loss: 1.4259 - val_accuracy: 0.4983\n",
      "Epoch 3/15\n",
      "1563/1563 [==============================] - 20s 13ms/step - loss: 1.2999 - accuracy: 0.5383 - val_loss: 1.2703 - val_accuracy: 0.5571\n",
      "Epoch 4/15\n",
      "1563/1563 [==============================] - 20s 13ms/step - loss: 1.1709 - accuracy: 0.5865 - val_loss: 1.0290 - val_accuracy: 0.6362\n",
      "Epoch 5/15\n",
      "1563/1563 [==============================] - 20s 13ms/step - loss: 1.0713 - accuracy: 0.6239 - val_loss: 0.8878 - val_accuracy: 0.6925\n",
      "Epoch 6/15\n",
      "1563/1563 [==============================] - 20s 13ms/step - loss: 0.9925 - accuracy: 0.6545 - val_loss: 0.9170 - val_accuracy: 0.6794\n",
      "Epoch 7/15\n",
      "1563/1563 [==============================] - 20s 13ms/step - loss: 0.9322 - accuracy: 0.6767 - val_loss: 0.9167 - val_accuracy: 0.6893\n",
      "Epoch 8/15\n",
      "1563/1563 [==============================] - 20s 13ms/step - loss: 0.8775 - accuracy: 0.6980 - val_loss: 0.8379 - val_accuracy: 0.7192\n",
      "Epoch 9/15\n",
      "1563/1563 [==============================] - 20s 13ms/step - loss: 0.8379 - accuracy: 0.7146 - val_loss: 0.9524 - val_accuracy: 0.6914\n",
      "Epoch 10/15\n",
      "1563/1563 [==============================] - 20s 13ms/step - loss: 0.8092 - accuracy: 0.7253 - val_loss: 0.7402 - val_accuracy: 0.7545\n",
      "Epoch 11/15\n",
      "1563/1563 [==============================] - 20s 13ms/step - loss: 0.7900 - accuracy: 0.7365 - val_loss: 0.7116 - val_accuracy: 0.7676\n",
      "Epoch 12/15\n",
      "1563/1563 [==============================] - 20s 13ms/step - loss: 0.7734 - accuracy: 0.7411 - val_loss: 0.7038 - val_accuracy: 0.7751\n",
      "Epoch 13/15\n",
      "1563/1563 [==============================] - 20s 13ms/step - loss: 0.7645 - accuracy: 0.7447 - val_loss: 0.6503 - val_accuracy: 0.7816\n",
      "Epoch 14/15\n",
      "1563/1563 [==============================] - 20s 13ms/step - loss: 0.7646 - accuracy: 0.7475 - val_loss: 0.7893 - val_accuracy: 0.7515\n",
      "Epoch 15/15\n",
      "1563/1563 [==============================] - 20s 13ms/step - loss: 0.7585 - accuracy: 0.7493 - val_loss: 0.6329 - val_accuracy: 0.7960\n",
      "10000/10000 [==============================] - 1s 115us/step\n"
     ]
    },
    {
     "data": {
      "text/plain": [
       "[0.6328720701694488, 0.7960000038146973]"
      ]
     },
     "execution_count": 16,
     "metadata": {},
     "output_type": "execute_result"
    }
   ],
   "source": [
    "model = Sequential()\n",
    "\n",
    "model.add(Conv2D(32, (3, 3), padding='same',\n",
    "                 input_shape=x_train.shape[1:]))\n",
    "model.add(Activation('relu'))\n",
    "model.add(Conv2D(64, (3, 3)))\n",
    "model.add(Activation('relu'))\n",
    "model.add(MaxPooling2D(pool_size=(2, 2)))\n",
    "model.add(Dropout(0.25))\n",
    "\n",
    "model.add(Conv2D(128, (3, 3), padding='same'))\n",
    "model.add(Activation('relu'))\n",
    "model.add(Conv2D(256, (3, 3)))\n",
    "model.add(Activation('relu'))\n",
    "model.add(Dropout(0.2))\n",
    "model.add(Conv2D(512, (3, 3)))\n",
    "model.add(Activation('relu'))\n",
    "model.add(MaxPooling2D(pool_size=(2, 2)))\n",
    "model.add(Dropout(0.25))\n",
    "\n",
    "model.add(Flatten())\n",
    "model.add(Dense(512))\n",
    "model.add(Activation('relu'))\n",
    "model.add(Dropout(0.3))\n",
    "model.add(Dense(512))\n",
    "model.add(Activation('relu'))\n",
    "model.add(Dropout(0.5))\n",
    "model.add(Dense(10))\n",
    "model.add(Activation('softmax'))\n",
    "\n",
    "opt = keras.optimizers.RMSprop(lr=0.0001, decay=1e-6)\n",
    "\n",
    "model.compile(loss='categorical_crossentropy',\n",
    "              optimizer=opt,\n",
    "              metrics=['accuracy'])\n",
    "\n",
    "datagen = ImageDataGenerator(\n",
    "    featurewise_center=False,\n",
    "    samplewise_center=False,\n",
    "    featurewise_std_normalization=False,\n",
    "    samplewise_std_normalization=False,\n",
    "    zca_whitening=False, \n",
    "    zca_epsilon=1e-06, \n",
    "    rotation_range=0, \n",
    "    width_shift_range=0.1,\n",
    "    height_shift_range=0.1,\n",
    "    shear_range=0., \n",
    "    zoom_range=0., \n",
    "    channel_shift_range=0.,\n",
    "    fill_mode='nearest',\n",
    "    cval=0.,\n",
    "    horizontal_flip=True,\n",
    "    vertical_flip=False,\n",
    "    rescale=None,\n",
    "    preprocessing_function=None,\n",
    "    data_format=None,\n",
    "    validation_split=0.0)\n",
    "model.fit_generator(datagen.flow(x_train, y_train,\n",
    "                                     batch_size=32),\n",
    "                        epochs=15,\n",
    "                        validation_data=(x_test, y_test),\n",
    "                        workers=8)\n",
    "#model.fit(x_train, y_train, batch_size=32, epochs=13, validation_data=(x_test, y_test), shuffle=True)\n",
    "model.evaluate(x_test, y_test)"
   ]
  },
  {
   "cell_type": "markdown",
   "metadata": {},
   "source": [
    "<li>В итоге мы смогли улучшить точность нейросети до 0.8011 добавив один полносвязный слой, один сверточный слой и увеличив число эпох обучения. Увеличение пулинговых слоев несколько уменьшает точность нейросети. Скорее всего из-за того, что наши картинки имеют небольшое разрешение. Обучение на сгенерированных данных уменьшает точность на тренировочной выборке, одонако на валидационной выборке точность несколько больше. </li>\n",
    "Для датасета mnist нам, скорее всего не потребовалось бы столько сверточных слоев. Для датасета cifar100 нам бы потребовалось увеличить число нейронов в последнем слое до 100, по количеству классов."
   ]
  },
  {
   "cell_type": "code",
   "execution_count": null,
   "metadata": {},
   "outputs": [],
   "source": []
  },
  {
   "cell_type": "code",
   "execution_count": null,
   "metadata": {},
   "outputs": [],
   "source": []
  }
 ],
 "metadata": {
  "kernelspec": {
   "display_name": "Python 3",
   "language": "python",
   "name": "python3"
  },
  "language_info": {
   "codemirror_mode": {
    "name": "ipython",
    "version": 3
   },
   "file_extension": ".py",
   "mimetype": "text/x-python",
   "name": "python",
   "nbconvert_exporter": "python",
   "pygments_lexer": "ipython3",
   "version": "3.8.3"
  }
 },
 "nbformat": 4,
 "nbformat_minor": 2
}
