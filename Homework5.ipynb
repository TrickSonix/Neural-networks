{
 "cells": [
  {
   "cell_type": "code",
   "execution_count": 1,
   "metadata": {},
   "outputs": [
    {
     "name": "stderr",
     "output_type": "stream",
     "text": [
      "Using TensorFlow backend.\n"
     ]
    }
   ],
   "source": [
    "from keras.preprocessing import sequence\n",
    "from keras.models import Sequential\n",
    "from keras.layers import Dense, Embedding\n",
    "from keras.layers import LSTM\n",
    "from keras.datasets import imdb"
   ]
  },
  {
   "cell_type": "code",
   "execution_count": 2,
   "metadata": {},
   "outputs": [],
   "source": [
    "(x_train, y_train), (x_test, y_test) = imdb.load_data(num_words=20000)\n",
    "x_train = sequence.pad_sequences(x_train, maxlen=80)\n",
    "x_test = sequence.pad_sequences(x_test, maxlen=80)"
   ]
  },
  {
   "cell_type": "code",
   "execution_count": 3,
   "metadata": {},
   "outputs": [],
   "source": [
    "import os\n",
    "os.environ[\"CUDA_VISIBLE_DEVICES\"] = \"-1\""
   ]
  },
  {
   "cell_type": "code",
   "execution_count": 4,
   "metadata": {},
   "outputs": [
    {
     "name": "stdout",
     "output_type": "stream",
     "text": [
      "[name: \"/device:CPU:0\"\n",
      "device_type: \"CPU\"\n",
      "memory_limit: 268435456\n",
      "locality {\n",
      "}\n",
      "incarnation: 10831620027691362412\n",
      "]\n"
     ]
    }
   ],
   "source": [
    "from tensorflow.python.client import device_lib\n",
    "print(device_lib.list_local_devices())"
   ]
  },
  {
   "cell_type": "code",
   "execution_count": 5,
   "metadata": {},
   "outputs": [
    {
     "data": {
      "text/plain": [
       "[]"
      ]
     },
     "execution_count": 5,
     "metadata": {},
     "output_type": "execute_result"
    }
   ],
   "source": [
    "from keras import backend as K\n",
    "K.tensorflow_backend._get_available_gpus()"
   ]
  },
  {
   "cell_type": "code",
   "execution_count": 6,
   "metadata": {},
   "outputs": [],
   "source": [
    "import tensorflow as tf"
   ]
  },
  {
   "cell_type": "code",
   "execution_count": 7,
   "metadata": {},
   "outputs": [],
   "source": [
    "from keras.backend.tensorflow_backend import set_session\n",
    "config = tf.ConfigProto()\n",
    "config.gpu_options.allow_growth = True\n",
    "config.gpu_options.per_process_gpu_memory_fraction = 0.7\n",
    "sess = tf.Session(config=config)\n",
    "set_session(sess)"
   ]
  },
  {
   "cell_type": "code",
   "execution_count": 8,
   "metadata": {},
   "outputs": [
    {
     "name": "stdout",
     "output_type": "stream",
     "text": [
      "WARNING:tensorflow:From D:\\Anaconda3\\lib\\site-packages\\tensorflow\\python\\ops\\nn_impl.py:180: add_dispatch_support.<locals>.wrapper (from tensorflow.python.ops.array_ops) is deprecated and will be removed in a future version.\n",
      "Instructions for updating:\n",
      "Use tf.where in 2.0, which has the same broadcast rule as np.where\n",
      "WARNING:tensorflow:From D:\\Anaconda3\\lib\\site-packages\\keras\\backend\\tensorflow_backend.py:422: The name tf.global_variables is deprecated. Please use tf.compat.v1.global_variables instead.\n",
      "\n",
      "Train on 25000 samples, validate on 25000 samples\n",
      "Epoch 1/5\n",
      "25000/25000 [==============================] - 79s 3ms/step - loss: 0.4599 - accuracy: 0.7844 - val_loss: 0.3915 - val_accuracy: 0.8287\n",
      "Epoch 2/5\n",
      "25000/25000 [==============================] - 79s 3ms/step - loss: 0.2996 - accuracy: 0.8783 - val_loss: 0.3792 - val_accuracy: 0.8372\n",
      "Epoch 3/5\n",
      "25000/25000 [==============================] - 80s 3ms/step - loss: 0.2249 - accuracy: 0.9129 - val_loss: 0.4010 - val_accuracy: 0.8323\n",
      "Epoch 4/5\n",
      "25000/25000 [==============================] - 82s 3ms/step - loss: 0.1615 - accuracy: 0.9397 - val_loss: 0.4538 - val_accuracy: 0.8286\n",
      "Epoch 5/5\n",
      "25000/25000 [==============================] - 81s 3ms/step - loss: 0.1216 - accuracy: 0.9554 - val_loss: 0.5456 - val_accuracy: 0.8236\n",
      "25000/25000 [==============================] - 14s 563us/step\n"
     ]
    },
    {
     "data": {
      "text/plain": [
       "[0.5456346854567528, 0.823639988899231]"
      ]
     },
     "execution_count": 8,
     "metadata": {},
     "output_type": "execute_result"
    }
   ],
   "source": [
    "model = Sequential()\n",
    "model.add(Embedding(20000, 128))\n",
    "model.add(LSTM(128, dropout=0.2, recurrent_dropout=0.2))\n",
    "model.add(Dense(1, activation='sigmoid'))\n",
    "\n",
    "model.compile(loss='binary_crossentropy',\n",
    "              optimizer='adam',\n",
    "              metrics=['accuracy'])\n",
    "\n",
    "model.fit(x_train, y_train,\n",
    "          batch_size=50,\n",
    "          epochs=5,\n",
    "          validation_data=(x_test, y_test))\n",
    "model.evaluate(x_test, y_test, batch_size=50)"
   ]
  },
  {
   "cell_type": "markdown",
   "metadata": {},
   "source": [
    "5 эпох полоучилось много. модель получилась переобученной."
   ]
  },
  {
   "cell_type": "markdown",
   "metadata": {},
   "source": [
    "Попробуем разные оптимайзеры"
   ]
  },
  {
   "cell_type": "code",
   "execution_count": 9,
   "metadata": {},
   "outputs": [
    {
     "name": "stdout",
     "output_type": "stream",
     "text": [
      "Train on 25000 samples, validate on 25000 samples\n",
      "Epoch 1/2\n",
      "25000/25000 [==============================] - 74s 3ms/step - loss: 0.6930 - accuracy: 0.5055 - val_loss: 0.6930 - val_accuracy: 0.5036\n",
      "Epoch 2/2\n",
      "25000/25000 [==============================] - 74s 3ms/step - loss: 0.6929 - accuracy: 0.5137 - val_loss: 0.6928 - val_accuracy: 0.5289\n",
      "25000/25000 [==============================] - 13s 530us/step\n"
     ]
    },
    {
     "data": {
      "text/plain": [
       "[0.6928071086406707, 0.5289199948310852]"
      ]
     },
     "execution_count": 9,
     "metadata": {},
     "output_type": "execute_result"
    }
   ],
   "source": [
    "model = Sequential()\n",
    "model.add(Embedding(20000, 128))\n",
    "model.add(LSTM(128, dropout=0.2, recurrent_dropout=0.2))\n",
    "model.add(Dense(1, activation='sigmoid'))\n",
    "\n",
    "model.compile(loss='binary_crossentropy',\n",
    "              optimizer='SGD',\n",
    "              metrics=['accuracy'])\n",
    "\n",
    "model.fit(x_train, y_train,\n",
    "          batch_size=50,\n",
    "          epochs=2,\n",
    "          validation_data=(x_test, y_test))\n",
    "model.evaluate(x_test, y_test, batch_size=50)"
   ]
  },
  {
   "cell_type": "markdown",
   "metadata": {},
   "source": [
    "SGD плохо подходит."
   ]
  },
  {
   "cell_type": "code",
   "execution_count": 11,
   "metadata": {},
   "outputs": [
    {
     "name": "stdout",
     "output_type": "stream",
     "text": [
      "Train on 25000 samples, validate on 25000 samples\n",
      "Epoch 1/2\n",
      "25000/25000 [==============================] - 76s 3ms/step - loss: 0.4683 - accuracy: 0.7838 - val_loss: 0.3908 - val_accuracy: 0.8286\n",
      "Epoch 2/2\n",
      "25000/25000 [==============================] - 76s 3ms/step - loss: 0.3311 - accuracy: 0.8615 - val_loss: 0.4053 - val_accuracy: 0.8330\n",
      "25000/25000 [==============================] - 14s 565us/step\n"
     ]
    },
    {
     "data": {
      "text/plain": [
       "[0.4053425676524639, 0.8330399990081787]"
      ]
     },
     "execution_count": 11,
     "metadata": {},
     "output_type": "execute_result"
    }
   ],
   "source": [
    "model = Sequential()\n",
    "model.add(Embedding(20000, 128))\n",
    "model.add(LSTM(128, dropout=0.2, recurrent_dropout=0.2))\n",
    "model.add(Dense(1, activation='sigmoid'))\n",
    "\n",
    "model.compile(loss='binary_crossentropy',\n",
    "              optimizer='RMSprop',\n",
    "              metrics=['accuracy'])\n",
    "\n",
    "model.fit(x_train, y_train,\n",
    "          batch_size=50,\n",
    "          epochs=2,\n",
    "          validation_data=(x_test, y_test))\n",
    "model.evaluate(x_test, y_test, batch_size=50)"
   ]
  },
  {
   "cell_type": "code",
   "execution_count": 12,
   "metadata": {},
   "outputs": [
    {
     "name": "stdout",
     "output_type": "stream",
     "text": [
      "Train on 25000 samples, validate on 25000 samples\n",
      "Epoch 1/2\n",
      "25000/25000 [==============================] - 79s 3ms/step - loss: 0.4724 - accuracy: 0.7746 - val_loss: 0.3612 - val_accuracy: 0.8392\n",
      "Epoch 2/2\n",
      "25000/25000 [==============================] - 77s 3ms/step - loss: 0.3324 - accuracy: 0.8605 - val_loss: 0.3622 - val_accuracy: 0.8407\n",
      "25000/25000 [==============================] - 15s 584us/step\n"
     ]
    },
    {
     "data": {
      "text/plain": [
       "[0.36223664590716365, 0.8406800031661987]"
      ]
     },
     "execution_count": 12,
     "metadata": {},
     "output_type": "execute_result"
    }
   ],
   "source": [
    "model = Sequential()\n",
    "model.add(Embedding(20000, 128))\n",
    "model.add(LSTM(128, dropout=0.2, recurrent_dropout=0.2))\n",
    "model.add(Dense(1, activation='sigmoid'))\n",
    "\n",
    "model.compile(loss='binary_crossentropy',\n",
    "              optimizer='Adamax',\n",
    "              metrics=['accuracy'])\n",
    "\n",
    "model.fit(x_train, y_train,\n",
    "          batch_size=50,\n",
    "          epochs=2,\n",
    "          validation_data=(x_test, y_test))\n",
    "model.evaluate(x_test, y_test, batch_size=50)"
   ]
  },
  {
   "cell_type": "markdown",
   "metadata": {},
   "source": [
    "Самым лучшим оптимайзером оказался Adamax с итоговой точностью на валидационной выборке 0.84. Кол-во эпох было увеличино до 2."
   ]
  },
  {
   "cell_type": "code",
   "execution_count": 13,
   "metadata": {},
   "outputs": [],
   "source": [
    "from keras.layers.recurrent import GRU\n",
    "from keras.layers import Activation"
   ]
  },
  {
   "cell_type": "code",
   "execution_count": 15,
   "metadata": {},
   "outputs": [],
   "source": [
    "import numpy as np"
   ]
  },
  {
   "cell_type": "code",
   "execution_count": 16,
   "metadata": {},
   "outputs": [],
   "source": [
    "with open(\"Data/alice_in_wonderland.txt\", 'rb') as _in:\n",
    "    lines = []\n",
    "    for line in _in:\n",
    "        line = line.strip().lower().decode(\"ascii\", \"ignore\")\n",
    "        if len(line) == 0:\n",
    "            continue\n",
    "        lines.append(line)\n",
    "text = \" \".join(lines)\n",
    "chars = set([c for c in text])\n",
    "nb_chars = len(chars)\n",
    "\n",
    "char2index = {c: i for i, c in enumerate(chars)}\n",
    "index2char = {i: c for i, c in enumerate(chars)}\n",
    "\n",
    "SEQLEN, STEP = 10, 1\n",
    "input_chars, label_chars = [], []\n",
    "\n",
    "for i in range(0, len(text) - SEQLEN, STEP):\n",
    "    input_chars.append(text[i: i + SEQLEN])\n",
    "    label_chars.append(text[i + SEQLEN])\n",
    "    \n",
    "X = np.zeros((len(input_chars), SEQLEN, nb_chars), dtype=np.bool)\n",
    "y = np.zeros((len(input_chars), nb_chars), dtype=np.bool)\n",
    "for i, input_char in enumerate(input_chars):\n",
    "    for j, ch in enumerate(input_char):\n",
    "        X[i, j, char2index[ch]] = 1\n",
    "    y[i, char2index[label_chars[i]]] = 1"
   ]
  },
  {
   "cell_type": "code",
   "execution_count": 21,
   "metadata": {},
   "outputs": [
    {
     "name": "stdout",
     "output_type": "stream",
     "text": [
      "Epoch 1/2\n",
      "158773/158773 [==============================] - 22s 137us/step - loss: 2.3124\n",
      "Epoch 2/2\n",
      "158773/158773 [==============================] - 21s 131us/step - loss: 1.9161\n"
     ]
    },
    {
     "data": {
      "text/plain": [
       "<keras.callbacks.callbacks.History at 0x138a79697b8>"
      ]
     },
     "execution_count": 21,
     "metadata": {},
     "output_type": "execute_result"
    }
   ],
   "source": [
    "model = Sequential()\n",
    "model.add(\n",
    "    GRU(128,\n",
    "        return_sequences=False,\n",
    "        input_shape=(SEQLEN, nb_chars),\n",
    "        unroll=True\n",
    "    )\n",
    ")\n",
    "model.add(Dense(nb_chars))\n",
    "model.add(Activation(\"softmax\"))\n",
    "model.compile(loss=\"categorical_crossentropy\", optimizer=\"rmsprop\")\n",
    "model.fit(X, y, batch_size=128, epochs=2)"
   ]
  },
  {
   "cell_type": "code",
   "execution_count": 24,
   "metadata": {},
   "outputs": [
    {
     "name": "stdout",
     "output_type": "stream",
     "text": [
      "Генерация из посева:  forth in \n",
      " forth in a said the cane the mack "
     ]
    }
   ],
   "source": [
    "test_idx = np.random.randint(len(input_chars))\n",
    "test_chars = input_chars[test_idx]\n",
    "\n",
    "# для числа шагов предсказаний использование текущей тренируемой модели \n",
    "# конструирование one-hot encoding для тестирования input и добавление предсказания.\n",
    "print(\"Генерация из посева: %s\" % (test_chars))\n",
    "print(test_chars, end=\"\")\n",
    "for i in range(25):\n",
    "\n",
    "    # здесь one-hot encoding.\n",
    "    X_test = np.zeros((1, SEQLEN, nb_chars))\n",
    "    for j, ch in enumerate(test_chars):\n",
    "        X_test[0, j, char2index[ch]] = 1\n",
    "\n",
    "    # осуществление предсказания с помощью текущей модели.\n",
    "    pred = model.predict(X_test, verbose=0)[0]\n",
    "    y_pred = index2char[np.argmax(pred)]\n",
    "\n",
    "    # вывод предсказания добавленного к тестовому примеру \n",
    "    print(y_pred, end=\"\")\n",
    "\n",
    "    # инкрементация тестового примера содержащего предсказание\n",
    "    test_chars = test_chars[1:] + y_pred"
   ]
  },
  {
   "cell_type": "markdown",
   "metadata": {},
   "source": [
    "Попробуем еще увеличить число эпох."
   ]
  },
  {
   "cell_type": "code",
   "execution_count": 25,
   "metadata": {},
   "outputs": [
    {
     "name": "stdout",
     "output_type": "stream",
     "text": [
      "Epoch 1/4\n",
      "158773/158773 [==============================] - 23s 145us/step - loss: 2.3062\n",
      "Epoch 2/4\n",
      "158773/158773 [==============================] - 22s 140us/step - loss: 1.9111\n",
      "Epoch 3/4\n",
      "158773/158773 [==============================] - 22s 140us/step - loss: 1.7568\n",
      "Epoch 4/4\n",
      "158773/158773 [==============================] - 22s 140us/step - loss: 1.6556\n"
     ]
    },
    {
     "data": {
      "text/plain": [
       "<keras.callbacks.callbacks.History at 0x138adedf6d8>"
      ]
     },
     "execution_count": 25,
     "metadata": {},
     "output_type": "execute_result"
    }
   ],
   "source": [
    "model = Sequential()\n",
    "model.add(\n",
    "    GRU(128,\n",
    "        return_sequences=False,\n",
    "        input_shape=(SEQLEN, nb_chars),\n",
    "        unroll=True\n",
    "    )\n",
    ")\n",
    "model.add(Dense(nb_chars))\n",
    "model.add(Activation(\"softmax\"))\n",
    "model.compile(loss=\"categorical_crossentropy\", optimizer=\"rmsprop\")\n",
    "model.fit(X, y, batch_size=128, epochs=4)"
   ]
  },
  {
   "cell_type": "code",
   "execution_count": 27,
   "metadata": {},
   "outputs": [
    {
     "name": "stdout",
     "output_type": "stream",
     "text": [
      "Генерация из посева: rown so la\n",
      "rown so latter all she said the mor"
     ]
    }
   ],
   "source": [
    "test_idx = np.random.randint(len(input_chars))\n",
    "test_chars = input_chars[test_idx]\n",
    "\n",
    "# для числа шагов предсказаний использование текущей тренируемой модели \n",
    "# конструирование one-hot encoding для тестирования input и добавление предсказания.\n",
    "print(\"Генерация из посева: %s\" % (test_chars))\n",
    "print(test_chars, end=\"\")\n",
    "for i in range(25):\n",
    "\n",
    "    # здесь one-hot encoding.\n",
    "    X_test = np.zeros((1, SEQLEN, nb_chars))\n",
    "    for j, ch in enumerate(test_chars):\n",
    "        X_test[0, j, char2index[ch]] = 1\n",
    "\n",
    "    # осуществление предсказания с помощью текущей модели.\n",
    "    pred = model.predict(X_test, verbose=0)[0]\n",
    "    y_pred = index2char[np.argmax(pred)]\n",
    "\n",
    "    # вывод предсказания добавленного к тестовому примеру \n",
    "    print(y_pred, end=\"\")\n",
    "\n",
    "    # инкрементация тестового примера содержащего предсказание\n",
    "    test_chars = test_chars[1:] + y_pred"
   ]
  },
  {
   "cell_type": "markdown",
   "metadata": {},
   "source": [
    "В этот раз фраза получилась более оосмысленной."
   ]
  },
  {
   "cell_type": "code",
   "execution_count": 28,
   "metadata": {},
   "outputs": [
    {
     "name": "stdout",
     "output_type": "stream",
     "text": [
      "Генерация из посева: g at the h\n",
      "g at the hatter some of the sore of the "
     ]
    }
   ],
   "source": [
    "test_idx = np.random.randint(len(input_chars))\n",
    "test_chars = input_chars[test_idx]\n",
    "\n",
    "# для числа шагов предсказаний использование текущей тренируемой модели \n",
    "# конструирование one-hot encoding для тестирования input и добавление предсказания.\n",
    "print(\"Генерация из посева: %s\" % (test_chars))\n",
    "print(test_chars, end=\"\")\n",
    "for i in range(30):\n",
    "\n",
    "    # здесь one-hot encoding.\n",
    "    X_test = np.zeros((1, SEQLEN, nb_chars))\n",
    "    for j, ch in enumerate(test_chars):\n",
    "        X_test[0, j, char2index[ch]] = 1\n",
    "\n",
    "    # осуществление предсказания с помощью текущей модели.\n",
    "    pred = model.predict(X_test, verbose=0)[0]\n",
    "    y_pred = index2char[np.argmax(pred)]\n",
    "\n",
    "    # вывод предсказания добавленного к тестовому примеру \n",
    "    print(y_pred, end=\"\")\n",
    "\n",
    "    # инкрементация тестового примера содержащего предсказание\n",
    "    test_chars = test_chars[1:] + y_pred"
   ]
  },
  {
   "cell_type": "markdown",
   "metadata": {},
   "source": [
    "В итоге для более-менее осмысленных фраз пришлось увеличить кол-во эпох обучения до 4."
   ]
  }
 ],
 "metadata": {
  "kernelspec": {
   "display_name": "Python 3",
   "language": "python",
   "name": "python3"
  },
  "language_info": {
   "codemirror_mode": {
    "name": "ipython",
    "version": 3
   },
   "file_extension": ".py",
   "mimetype": "text/x-python",
   "name": "python",
   "nbconvert_exporter": "python",
   "pygments_lexer": "ipython3",
   "version": "3.7.3"
  }
 },
 "nbformat": 4,
 "nbformat_minor": 2
}
